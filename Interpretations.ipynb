{
 "cells": [
  {
   "cell_type": "code",
   "execution_count": 1,
   "id": "ea4d045b-0167-453d-8b73-3be072de94f8",
   "metadata": {},
   "outputs": [],
   "source": [
    "import pandas as pd\n",
    "import numpy as np\n",
    "from sklearn.model_selection import train_test_split\n",
    "from sklearn.ensemble import RandomForestClassifier\n",
    "from sklearn.metrics import f1_score\n",
    "from sklearn.metrics import confusion_matrix, accuracy_score, roc_curve, roc_auc_score, f1_score"
   ]
  },
  {
   "cell_type": "code",
   "execution_count": 48,
   "id": "b121593b-d68a-4163-8804-d3ff1a08f306",
   "metadata": {},
   "outputs": [],
   "source": [
    "import pandas as pd\n",
    "df = pd.read_json('/home/jovyan/Interpretation/vector_embeddings.json')"
   ]
  },
  {
   "cell_type": "code",
   "execution_count": 3,
   "id": "ba0fb0c2-80ee-4879-98f9-fd7bca5766e0",
   "metadata": {},
   "outputs": [
    {
     "data": {
      "text/plain": [
       "(7084, 16)"
      ]
     },
     "execution_count": 3,
     "metadata": {},
     "output_type": "execute_result"
    }
   ],
   "source": [
    "df.shape"
   ]
  },
  {
   "cell_type": "code",
   "execution_count": 49,
   "id": "0724b665-b798-49db-a51e-3f499be4b0b1",
   "metadata": {},
   "outputs": [
    {
     "data": {
      "text/plain": [
       "(6369, 16)"
      ]
     },
     "execution_count": 49,
     "metadata": {},
     "output_type": "execute_result"
    }
   ],
   "source": [
    "category_counts = df[\"Encoded Categories\"].value_counts()\n",
    "\n",
    "# create a list of categories that have a frequency count greater than or equal to 2\n",
    "valid_categories = category_counts[category_counts >= 2].index.tolist()#The least populated class in y has only 1 member, which is too few. The minimum number of groups for any class cannot be less than 2.\n",
    "\n",
    "# create a new DataFrame that only includes rows where the category is in the valid_categories list\n",
    "new_data = df[df[\"Encoded Categories\"].isin(valid_categories)]\n",
    "new_data.shape"
   ]
  },
  {
   "cell_type": "code",
   "execution_count": 50,
   "id": "4dae9c83-56ff-44ff-af60-b395f755626b",
   "metadata": {},
   "outputs": [],
   "source": [
    "df=new_data"
   ]
  },
  {
   "cell_type": "code",
   "execution_count": 6,
   "id": "947a4ad3-5d8a-4e37-b768-2a030e931f89",
   "metadata": {},
   "outputs": [],
   "source": [
    "import pandas as pd\n",
    "import numpy as np\n",
    "from sklearn.model_selection import train_test_split\n",
    "from sklearn.ensemble import RandomForestClassifier\n",
    "from sklearn.metrics import f1_score\n",
    "\n",
    "def cluster(inp_vec):\n",
    "\n",
    "    X = df[inp_vec].to_list()  # Features (PDF document vectors)\n",
    "    y = df['Encoded Categories'].to_list()  # Target variable (categories)\n",
    "\n",
    "    # Fix Shape as vectors are of different shapes\n",
    "    max_len = max(len(x) for x in X)\n",
    "    X = np.array([np.concatenate([x, [0] * (max_len - len(x))]) for x in X])\n",
    "\n",
    "    features = X\n",
    "    target = y\n",
    "\n",
    "    X_train, X_test, y_train, y_test = train_test_split(features, target,stratify=target, test_size=0.3, random_state=42,shuffle=True)\n",
    "\n",
    "    rf = RandomForestClassifier(n_estimators=100, random_state=42)\n",
    "\n",
    "    rf.fit(X_train, y_train)\n",
    "\n",
    "    y_pred = rf.predict(X_test)\n",
    "   \n",
    "    return  y_train, y_test, y_pred"
   ]
  },
  {
   "cell_type": "code",
   "execution_count": 7,
   "id": "851ff407-1346-446e-b578-b2d1df46d9ae",
   "metadata": {},
   "outputs": [],
   "source": [
    "y_train_rnn, y_test_rnn, y_pred_rnn = cluster('RNN vectors')"
   ]
  },
  {
   "cell_type": "code",
   "execution_count": 8,
   "id": "d89135ab-30a8-4555-9945-4dc87140d42b",
   "metadata": {},
   "outputs": [],
   "source": [
    "y_train_lsa, y_test_lsa, y_pred_lsa = cluster('LSA vectors')"
   ]
  },
  {
   "cell_type": "code",
   "execution_count": 9,
   "id": "342d2f42-679d-49c6-996a-16fef0fccd67",
   "metadata": {},
   "outputs": [],
   "source": [
    "y_train_dv, y_test_dv, y_pred_dv = cluster('doc2vec vectors')"
   ]
  },
  {
   "cell_type": "code",
   "execution_count": 51,
   "id": "ea0ca231-84b6-46ba-bfff-e118f06fe2da",
   "metadata": {},
   "outputs": [],
   "source": [
    "df['concatenated'] = df['RNN vectors'] + df['LSA vectors'] + df['doc2vec vectors']"
   ]
  },
  {
   "cell_type": "code",
   "execution_count": 52,
   "id": "0298def4-a3dc-40fe-bc6f-ffb0e8c98202",
   "metadata": {},
   "outputs": [],
   "source": [
    "y_train_con, y_test_con, y_pred_con = cluster('concatenated')"
   ]
  },
  {
   "cell_type": "code",
   "execution_count": 10,
   "id": "b6656905-035b-4a7d-b281-5cf500680d21",
   "metadata": {},
   "outputs": [],
   "source": [
    "#f1 score"
   ]
  },
  {
   "cell_type": "code",
   "execution_count": 11,
   "id": "cfaf5d23-da33-4382-9a17-628aaa5ff2b6",
   "metadata": {},
   "outputs": [],
   "source": [
    "f1score_rnn = f1_score(y_test_rnn, y_pred_rnn, average='weighted')"
   ]
  },
  {
   "cell_type": "code",
   "execution_count": 12,
   "id": "f64e471c-4611-4139-9bd4-6ab0d607e611",
   "metadata": {},
   "outputs": [],
   "source": [
    "f1score_lsa = f1_score( y_test_lsa, y_pred_lsa, average='weighted')"
   ]
  },
  {
   "cell_type": "code",
   "execution_count": 13,
   "id": "a445cd43-4522-4cb6-b224-9102d7263fc8",
   "metadata": {},
   "outputs": [],
   "source": [
    "f1score_dv = f1_score(y_test_dv, y_pred_dv, average='weighted')"
   ]
  },
  {
   "cell_type": "code",
   "execution_count": 53,
   "id": "17cc6be8-5042-414f-8567-7cd99f9001a4",
   "metadata": {},
   "outputs": [],
   "source": [
    "f1score_con = f1_score(y_test_con, y_pred_con, average='weighted')"
   ]
  },
  {
   "cell_type": "code",
   "execution_count": 14,
   "id": "05a8bc39-1f82-435e-8df7-3811fb424abd",
   "metadata": {},
   "outputs": [
    {
     "data": {
      "text/plain": [
       "0.06774282802803966"
      ]
     },
     "execution_count": 14,
     "metadata": {},
     "output_type": "execute_result"
    }
   ],
   "source": [
    "f1score_rnn"
   ]
  },
  {
   "cell_type": "code",
   "execution_count": 15,
   "id": "807f93b8-fa5b-4e88-8530-c86cff381909",
   "metadata": {},
   "outputs": [
    {
     "data": {
      "text/plain": [
       "0.08140248634301536"
      ]
     },
     "execution_count": 15,
     "metadata": {},
     "output_type": "execute_result"
    }
   ],
   "source": [
    "f1score_lsa"
   ]
  },
  {
   "cell_type": "code",
   "execution_count": 16,
   "id": "722dc51b-2e54-42db-a7f8-f7818560298e",
   "metadata": {},
   "outputs": [
    {
     "data": {
      "text/plain": [
       "0.07315173884368065"
      ]
     },
     "execution_count": 16,
     "metadata": {},
     "output_type": "execute_result"
    }
   ],
   "source": [
    "f1score_dv"
   ]
  },
  {
   "cell_type": "code",
   "execution_count": 66,
   "id": "d340100c-8822-4159-94d2-b65538513b37",
   "metadata": {},
   "outputs": [
    {
     "data": {
      "text/plain": [
       "0.06521605348729952"
      ]
     },
     "execution_count": 66,
     "metadata": {},
     "output_type": "execute_result"
    }
   ],
   "source": [
    "f1score_con"
   ]
  },
  {
   "cell_type": "code",
   "execution_count": 17,
   "id": "89933c69-0531-4041-9b49-7c5bf4d0f4a0",
   "metadata": {},
   "outputs": [],
   "source": [
    "#accuracy"
   ]
  },
  {
   "cell_type": "code",
   "execution_count": 18,
   "id": "2fca0dc2-6341-44de-bee5-d36b8d6ae12d",
   "metadata": {},
   "outputs": [],
   "source": [
    "acc_rnn = accuracy_score(y_test_rnn, y_pred_rnn)"
   ]
  },
  {
   "cell_type": "code",
   "execution_count": 19,
   "id": "dabd8f39-5a8e-438b-9495-486011693547",
   "metadata": {},
   "outputs": [],
   "source": [
    "acc_lsa = accuracy_score(y_test_lsa, y_pred_lsa)"
   ]
  },
  {
   "cell_type": "code",
   "execution_count": 20,
   "id": "e8b37d98-d9cf-45b5-9f19-579f910e66d0",
   "metadata": {},
   "outputs": [],
   "source": [
    "acc_dv = accuracy_score(y_test_dv, y_pred_dv)"
   ]
  },
  {
   "cell_type": "code",
   "execution_count": 54,
   "id": "19bbc4ba-ee9d-44cf-aa21-2831d4a32288",
   "metadata": {},
   "outputs": [],
   "source": [
    "acc_con = accuracy_score(y_test_con, y_pred_con)"
   ]
  },
  {
   "cell_type": "code",
   "execution_count": 21,
   "id": "b774f450-51fa-44d0-b08a-b15f12325ab9",
   "metadata": {},
   "outputs": [
    {
     "data": {
      "text/plain": [
       "0.1857666143380429"
      ]
     },
     "execution_count": 21,
     "metadata": {},
     "output_type": "execute_result"
    }
   ],
   "source": [
    "acc_rnn"
   ]
  },
  {
   "cell_type": "code",
   "execution_count": 22,
   "id": "3796ff01-d937-4646-9d03-3d27e2abc202",
   "metadata": {},
   "outputs": [
    {
     "data": {
      "text/plain": [
       "0.19204604918890633"
      ]
     },
     "execution_count": 22,
     "metadata": {},
     "output_type": "execute_result"
    }
   ],
   "source": [
    "acc_lsa"
   ]
  },
  {
   "cell_type": "code",
   "execution_count": 23,
   "id": "2a84f6a0-5c14-4219-a4a8-4ee2957a5852",
   "metadata": {},
   "outputs": [
    {
     "data": {
      "text/plain": [
       "0.18628990057561487"
      ]
     },
     "execution_count": 23,
     "metadata": {},
     "output_type": "execute_result"
    }
   ],
   "source": [
    "acc_dv"
   ]
  },
  {
   "cell_type": "code",
   "execution_count": 55,
   "id": "1455026f-955d-4666-8dff-4000d3c47eb1",
   "metadata": {},
   "outputs": [
    {
     "data": {
      "text/plain": [
       "0.1836734693877551"
      ]
     },
     "execution_count": 55,
     "metadata": {},
     "output_type": "execute_result"
    }
   ],
   "source": [
    "acc_con"
   ]
  },
  {
   "cell_type": "code",
   "execution_count": 24,
   "id": "0692e9f7-5864-4fd3-9e4b-20428d0aec60",
   "metadata": {},
   "outputs": [],
   "source": [
    "#confusion matrix"
   ]
  },
  {
   "cell_type": "code",
   "execution_count": 25,
   "id": "1a817451-d9c3-45dd-9d49-7a58f8d28ba1",
   "metadata": {},
   "outputs": [],
   "source": [
    "cm_rnn = confusion_matrix(y_test_rnn, y_pred_rnn)"
   ]
  },
  {
   "cell_type": "code",
   "execution_count": 26,
   "id": "23924e50-ab49-434b-a7c0-7a33894ac5dc",
   "metadata": {},
   "outputs": [],
   "source": [
    "cm_lsa = confusion_matrix(y_test_lsa, y_pred_lsa)"
   ]
  },
  {
   "cell_type": "code",
   "execution_count": 27,
   "id": "24e9914c-9431-449b-afeb-acd0a4638045",
   "metadata": {},
   "outputs": [],
   "source": [
    "cm_dv = confusion_matrix(y_test_dv, y_pred_dv)"
   ]
  },
  {
   "cell_type": "code",
   "execution_count": 56,
   "id": "6ab0408e-341f-421f-a3ad-d19383057617",
   "metadata": {},
   "outputs": [],
   "source": [
    "cm_con = confusion_matrix(y_test_con, y_pred_con)"
   ]
  },
  {
   "cell_type": "code",
   "execution_count": 28,
   "id": "799ef352-5440-49ae-b351-37ba63987f1f",
   "metadata": {},
   "outputs": [
    {
     "data": {
      "text/plain": [
       "array([[346,   0,   0, ...,   0,   0,   0],\n",
       "       [  3,   0,   0, ...,   0,   0,   0],\n",
       "       [  1,   0,   0, ...,   0,   0,   0],\n",
       "       ...,\n",
       "       [  2,   0,   0, ...,   0,   0,   0],\n",
       "       [  1,   0,   0, ...,   0,   0,   0],\n",
       "       [  1,   0,   0, ...,   0,   0,   0]])"
      ]
     },
     "execution_count": 28,
     "metadata": {},
     "output_type": "execute_result"
    }
   ],
   "source": [
    "cm_rnn"
   ]
  },
  {
   "cell_type": "code",
   "execution_count": 29,
   "id": "8672f9aa-5a2a-40b3-8480-7aa2c50b8d91",
   "metadata": {},
   "outputs": [
    {
     "data": {
      "text/plain": [
       "array([[345,   0,   0, ...,   0,   0,   0],\n",
       "       [  3,   0,   0, ...,   0,   0,   0],\n",
       "       [  1,   0,   0, ...,   0,   0,   0],\n",
       "       ...,\n",
       "       [  2,   0,   0, ...,   0,   0,   0],\n",
       "       [  1,   0,   0, ...,   0,   0,   0],\n",
       "       [  1,   0,   0, ...,   0,   0,   0]])"
      ]
     },
     "execution_count": 29,
     "metadata": {},
     "output_type": "execute_result"
    }
   ],
   "source": [
    "cm_lsa"
   ]
  },
  {
   "cell_type": "code",
   "execution_count": 30,
   "id": "f7fc20df-8c05-477c-9350-000dc0694199",
   "metadata": {},
   "outputs": [
    {
     "data": {
      "text/plain": [
       "array([[340,   0,   0, ...,   0,   0,   0],\n",
       "       [  3,   0,   0, ...,   0,   0,   0],\n",
       "       [  1,   0,   0, ...,   0,   0,   0],\n",
       "       ...,\n",
       "       [  2,   0,   0, ...,   0,   0,   0],\n",
       "       [  0,   0,   0, ...,   0,   0,   0],\n",
       "       [  0,   0,   0, ...,   0,   0,   0]])"
      ]
     },
     "execution_count": 30,
     "metadata": {},
     "output_type": "execute_result"
    }
   ],
   "source": [
    "cm_dv"
   ]
  },
  {
   "cell_type": "code",
   "execution_count": 57,
   "id": "b191aef9-4459-407a-8abc-85ff36680950",
   "metadata": {},
   "outputs": [
    {
     "data": {
      "text/plain": [
       "array([[346,   0,   0, ...,   0,   0,   0],\n",
       "       [  3,   0,   0, ...,   0,   0,   0],\n",
       "       [  1,   0,   0, ...,   0,   0,   0],\n",
       "       ...,\n",
       "       [  2,   0,   0, ...,   0,   0,   0],\n",
       "       [  1,   0,   0, ...,   0,   0,   0],\n",
       "       [  1,   0,   0, ...,   0,   0,   0]])"
      ]
     },
     "execution_count": 57,
     "metadata": {},
     "output_type": "execute_result"
    }
   ],
   "source": [
    "cm_con"
   ]
  },
  {
   "cell_type": "code",
   "execution_count": 31,
   "id": "ea372302-f21f-41b2-9137-65d5f56a5acc",
   "metadata": {},
   "outputs": [],
   "source": [
    "#df_analyse"
   ]
  },
  {
   "cell_type": "code",
   "execution_count": 58,
   "id": "f4ac778b-60cd-4dca-99d6-7f9a0fcee28c",
   "metadata": {},
   "outputs": [
    {
     "data": {
      "text/html": [
       "<div>\n",
       "<style scoped>\n",
       "    .dataframe tbody tr th:only-of-type {\n",
       "        vertical-align: middle;\n",
       "    }\n",
       "\n",
       "    .dataframe tbody tr th {\n",
       "        vertical-align: top;\n",
       "    }\n",
       "\n",
       "    .dataframe thead th {\n",
       "        text-align: right;\n",
       "    }\n",
       "</style>\n",
       "<table border=\"1\" class=\"dataframe\">\n",
       "  <thead>\n",
       "    <tr style=\"text-align: right;\">\n",
       "      <th></th>\n",
       "      <th>Algorithm</th>\n",
       "      <th>F1 Score</th>\n",
       "      <th>Accuracy Score</th>\n",
       "    </tr>\n",
       "  </thead>\n",
       "  <tbody>\n",
       "    <tr>\n",
       "      <th>0</th>\n",
       "      <td>RNN</td>\n",
       "      <td>0.067743</td>\n",
       "      <td>0.185767</td>\n",
       "    </tr>\n",
       "    <tr>\n",
       "      <th>1</th>\n",
       "      <td>LSA</td>\n",
       "      <td>0.081402</td>\n",
       "      <td>0.192046</td>\n",
       "    </tr>\n",
       "    <tr>\n",
       "      <th>2</th>\n",
       "      <td>Doc2Vec</td>\n",
       "      <td>0.073152</td>\n",
       "      <td>0.186290</td>\n",
       "    </tr>\n",
       "    <tr>\n",
       "      <th>3</th>\n",
       "      <td>concatenated</td>\n",
       "      <td>0.065216</td>\n",
       "      <td>0.183673</td>\n",
       "    </tr>\n",
       "  </tbody>\n",
       "</table>\n",
       "</div>"
      ],
      "text/plain": [
       "      Algorithm  F1 Score  Accuracy Score\n",
       "0           RNN  0.067743        0.185767\n",
       "1           LSA  0.081402        0.192046\n",
       "2       Doc2Vec  0.073152        0.186290\n",
       "3  concatenated  0.065216        0.183673"
      ]
     },
     "execution_count": 58,
     "metadata": {},
     "output_type": "execute_result"
    }
   ],
   "source": [
    "df_analyse = pd.DataFrame()\n",
    "df_analyse['Algorithm']=['RNN','LSA','Doc2Vec','concatenated']\n",
    "df_analyse['F1 Score']=[f1score_rnn,f1score_lsa,f1score_dv,f1score_con]\n",
    "df_analyse['Accuracy Score']=[acc_rnn,acc_lsa,acc_dv,acc_con]\n",
    "df_analyse"
   ]
  },
  {
   "cell_type": "code",
   "execution_count": 72,
   "id": "596e9e1b-d45e-4c89-97e6-81912c3f3e02",
   "metadata": {},
   "outputs": [
    {
     "data": {
      "image/png": "[encoded data removed]",
      "text/plain": [
       "<Figure size 360x288 with 1 Axes>"
      ]
     },
     "metadata": {
      "needs_background": "light"
     },
     "output_type": "display_data"
    }
   ],
   "source": [
    "import matplotlib.pyplot as plt\n",
    "import pandas as pd\n",
    "\n",
    "# Define colors for each bar\n",
    "colors = ['#A8CD74' , '#005C9A', 'Black','grey']\n",
    "\n",
    "# Create a bar chart showing the F1 score for each algorithm with different colors and thinner bars\n",
    "fig, ax = plt.subplots(figsize=(5,4))\n",
    "ax.bar(df_analyse['Algorithm'], df_analyse['F1 Score'], color=colors, width=0.7)\n",
    "ax.set_xlabel('Algorithm')\n",
    "ax.set_ylabel('F1 Score')\n",
    "ax.set_title('F1 Scores for Each Algorithm')\n",
    "plt.show()"
   ]
  },
  {
   "cell_type": "code",
   "execution_count": 71,
   "id": "9ceb50d3-0a68-465c-aa05-4dbeaee261a4",
   "metadata": {},
   "outputs": [
    {
     "data": {
      "image/png": "[encoded data removed]",
      "text/plain": [
       "<Figure size 360x288 with 1 Axes>"
      ]
     },
     "metadata": {
      "needs_background": "light"
     },
     "output_type": "display_data"
    }
   ],
   "source": [
    "import matplotlib.pyplot as plt\n",
    "import pandas as pd\n",
    "\n",
    "colors = ['#A8CD74' , '#005C9A', 'Black','grey']\n",
    "\n",
    "\n",
    "# Create a bar chart showing the F1 score for each algorithm with different colors and thinner bars\n",
    "fig, ax = plt.subplots(figsize=(5,4))\n",
    "ax.bar(df_analyse['Algorithm'], df_analyse['Accuracy Score'], color=colors, width=0.7)\n",
    "ax.set_xlabel('Algorithm')\n",
    "ax.set_ylabel('Accuracy Score')\n",
    "ax.set_title('Accuracy Scores for Each Algorithm')\n",
    "plt.show()"
   ]
  },
  {
   "cell_type": "code",
   "execution_count": 35,
   "id": "88fd952e-4159-406c-b490-075f8922b422",
   "metadata": {},
   "outputs": [],
   "source": [
    "#df_res"
   ]
  },
  {
   "cell_type": "code",
   "execution_count": 62,
   "id": "1760c522-89d8-4d4f-aad2-7ad73b32da71",
   "metadata": {},
   "outputs": [],
   "source": [
    "df_res = pd.DataFrame()\n",
    "\n",
    "df_res['y_test']=y_test_rnn\n",
    "df_res['y_pred_rnn']=y_pred_rnn\n",
    "df_res['y_pred_lsa']=y_pred_lsa\n",
    "df_res['y_pred_dv']=y_pred_dv\n",
    "df_res['y_pred_con']=y_pred_con"
   ]
  },
  {
   "cell_type": "code",
   "execution_count": 37,
   "id": "09f7b3a3-f154-41c8-a5f1-a9244b8d5ce6",
   "metadata": {},
   "outputs": [
    {
     "data": {
      "text/plain": [
       "(1911, 6)"
      ]
     },
     "execution_count": 37,
     "metadata": {},
     "output_type": "execute_result"
    }
   ],
   "source": [
    "df_res.shape"
   ]
  },
  {
   "cell_type": "code",
   "execution_count": 63,
   "id": "750cc1a8-539e-4467-8824-179807fb6440",
   "metadata": {},
   "outputs": [],
   "source": [
    "df_res.to_excel('ytest_ypreds_new.xlsx')"
   ]
  },
  {
   "cell_type": "code",
   "execution_count": 64,
   "id": "2e808805-021f-4f0a-86ec-2220e9db9e22",
   "metadata": {},
   "outputs": [
    {
     "data": {
      "image/png": "[encoded data removed]",
      "text/plain": [
       "<Figure size 432x288 with 1 Axes>"
      ]
     },
     "metadata": {
      "needs_background": "light"
     },
     "output_type": "display_data"
    }
   ],
   "source": [
    "import pandas as pd\n",
    "import matplotlib.pyplot as plt\n",
    "\n",
    "# Define the numbers of interest\n",
    "numbers = [0, 365, 1127, 393]\n",
    "\n",
    "# Create a dictionary to hold the counts for each number in each column\n",
    "counts = {col: [df_res[col].eq(num).sum() for num in numbers] for col in df_res.columns}\n",
    "\n",
    "# Create a dataframe from the counts dictionary\n",
    "df_counts = pd.DataFrame(counts, index=numbers)\n",
    "\n",
    "# Create a grouped bar chart from the counts dataframe\n",
    "ax = df_counts.plot(kind='bar')\n",
    "ax.set_xlabel('Number')\n",
    "ax.set_ylabel('Frequency')\n",
    "plt.show()\n"
   ]
  },
  {
   "cell_type": "code",
   "execution_count": 80,
   "id": "e1cdbfd3-4d1d-4683-95ec-7f59efdbe2e9",
   "metadata": {},
   "outputs": [
    {
     "data": {
      "image/png": "[encoded data removed]",
      "text/plain": [
       "<Figure size 432x288 with 1 Axes>"
      ]
     },
     "metadata": {
      "needs_background": "light"
     },
     "output_type": "display_data"
    }
   ],
   "source": [
    "from collections import Counter\n",
    "import pandas as pd\n",
    "import matplotlib.pyplot as plt\n",
    "\n",
    "# Create a sample list with multiple elements\n",
    "my_list = y_train_rnn\n",
    "\n",
    "# Count the frequency of each element in the list\n",
    "counted_list = Counter(my_list)\n",
    "\n",
    "# Convert the Counter object into a Pandas DataFrame\n",
    "dff = pd.DataFrame.from_dict(counted_list, orient='index', columns=['Frequency'])\n",
    "\n",
    "# Filter the DataFrame to include only values with frequency greater than 2\n",
    "dff = dff[dff['Frequency'] > 50]\n",
    "\n",
    "# Plot the frequency counts as a bar chart\n",
    "dff.plot(kind='bar')\n",
    "plt.xlabel('Element')\n",
    "plt.ylabel('Frequency')\n",
    "plt.show()"
   ]
  },
  {
   "cell_type": "code",
   "execution_count": null,
   "id": "314f0a89-eff6-4d6a-8f4c-e5f715bab1f0",
   "metadata": {},
   "outputs": [],
   "source": [
    "#misclassified results"
   ]
  },
  {
   "cell_type": "code",
   "execution_count": 77,
   "id": "b0dbbbc5-6923-4ce2-99e1-e3db2560b8fb",
   "metadata": {},
   "outputs": [],
   "source": [
    "misclassified_idx = np.where(y_pred_lsa != y_test_lsa)[0]\n",
    "misclassified_categories = y_pred_lsa[misclassified_idx]"
   ]
  },
  {
   "cell_type": "code",
   "execution_count": 79,
   "id": "790d56f0-91cb-48e2-9b99-6c993a3dea6b",
   "metadata": {},
   "outputs": [
    {
     "data": {
      "image/png": "[encoded data removed]",
      "text/plain": [
       "<Figure size 720x432 with 1 Axes>"
      ]
     },
     "metadata": {
      "needs_background": "light"
     },
     "output_type": "display_data"
    }
   ],
   "source": [
    "unique_values, counts = np.unique(misclassified_categories, return_counts=True)\n",
    "\n",
    "# Define the misclassified categories and their counts\n",
    "categories = unique_values\n",
    "counts =  counts\n",
    "\n",
    "# Set plot size\n",
    "plt.figure(figsize=(10, 6))\n",
    "\n",
    "# Create a bar plot\n",
    "plt.bar([str(cat) for cat in categories], counts)\n",
    "plt.xlabel('Category')\n",
    "plt.ylabel('Count')\n",
    "plt.title('Misclassified Categories and Their Counts')\n",
    "\n",
    "plt.show()"
   ]
  },
  {
   "cell_type": "code",
   "execution_count": null,
   "id": "371c0fea-4dff-44df-84ac-6c940c006904",
   "metadata": {},
   "outputs": [],
   "source": [
    "#precision recall curve\n",
    "#plotting only classes that are significant in number"
   ]
  },
  {
   "cell_type": "code",
   "execution_count": 97,
   "id": "523e5702-5378-48de-b048-11f8cb967126",
   "metadata": {},
   "outputs": [
    {
     "data": {
      "image/png": "[encoded data removed]",
      "text/plain": [
       "<Figure size 576x360 with 1 Axes>"
      ]
     },
     "metadata": {
      "needs_background": "light"
     },
     "output_type": "display_data"
    }
   ],
   "source": [
    "from sklearn.preprocessing import LabelBinarizer\n",
    "from sklearn.metrics import precision_recall_curve, average_precision_score\n",
    "\n",
    "\n",
    "class_counts = np.sum(y_test_lsa, axis=0)\n",
    "valid_classes = np.where(class_counts > 50)[0]\n",
    "y_test_lsa = y_test_lsa[:, valid_classes]\n",
    "y_pred_lsa = y_pred_lsa[:, valid_classes]\n",
    "\n",
    "lb = LabelBinarizer()\n",
    "lb.fit(y_test_lsa)\n",
    "\n",
    "y_test_lsa = lb.transform(y_test_lsa)\n",
    "y_pred_lsa = lb.transform(y_pred_lsa)\n",
    "\n",
    "class_counts = np.sum(y_test_lsa, axis=0)\n",
    "valid_classes = np.where(class_counts > 50)[0]\n",
    "y_test_lsa = y_test_lsa[:, valid_classes]\n",
    "y_pred_lsa = y_pred_lsa[:, valid_classes]\n",
    "\n",
    "precision = dict()\n",
    "recall = dict()\n",
    "average_precision = dict()\n",
    "\n",
    "n_classes = y_test_lsa.shape[1]\n",
    "for i in range(n_classes):\n",
    "    precision[i], recall[i], _ = precision_recall_curve(y_test_lsa[:, i], y_pred_lsa[:, i])\n",
    "    average_precision[i] = average_precision_score(y_test_lsa[:, i], y_pred_lsa[:, i])\n",
    "\n",
    "plt.figure(figsize=(8, 5))\n",
    "plt.plot([0, 1], [0.5, 0.5], linestyle='--', color='gray', label='Chance', alpha=.8)\n",
    "for i in range(n_classes):\n",
    "    plt.plot(recall[i], precision[i], label=f'Class {valid_classes[i]} (AP = {average_precision[i]:.2f})')\n",
    "plt.xlabel('Recall')\n",
    "plt.ylabel('Precision')\n",
    "plt.title('Precision-Recall curve')\n",
    "plt.legend(loc=\"best\")\n",
    "plt.show()\n"
   ]
  },
  {
   "cell_type": "code",
   "execution_count": 98,
   "id": "146fd9ef-7bd2-4f90-a57a-8e6b0575f0d0",
   "metadata": {},
   "outputs": [
    {
     "data": {
      "text/plain": [
       "array([0, 1, 2, 3])"
      ]
     },
     "execution_count": 98,
     "metadata": {},
     "output_type": "execute_result"
    }
   ],
   "source": [
    "valid_classes"
   ]
  },
  {
   "cell_type": "code",
   "execution_count": 99,
   "id": "a3565143-0684-461a-91ad-5414f9928754",
   "metadata": {},
   "outputs": [
    {
     "data": {
      "text/plain": [
       "array([363, 103,  87,  96])"
      ]
     },
     "execution_count": 99,
     "metadata": {},
     "output_type": "execute_result"
    }
   ],
   "source": [
    "class_counts"
   ]
  },
  {
   "cell_type": "code",
   "execution_count": 87,
   "id": "78bb70c5-ea57-4196-8f54-3e1feafa8a18",
   "metadata": {},
   "outputs": [],
   "source": [
    "from sklearn.metrics import confusion_matrix, classification_report"
   ]
  },
  {
   "cell_type": "code",
   "execution_count": 91,
   "id": "b5bf0216-1407-484a-9ead-547d4f6fc39f",
   "metadata": {},
   "outputs": [
    {
     "data": {
      "text/plain": [
       "'              precision    recall  f1-score   support\\n\\n           0       0.20      0.95      0.33       363\\n           1       1.00      0.00      0.00         3\\n           2       1.00      0.00      0.00         1\\n           3       1.00      0.00      0.00         4\\n           5       1.00      0.00      0.00         4\\n          10       1.00      0.00      0.00         4\\n          11       1.00      0.00      0.00         1\\n          13       1.00      0.00      0.00         2\\n          14       1.00      0.00      0.00         1\\n          19       1.00      0.00      0.00         1\\n          25       1.00      0.00      0.00         1\\n          26       1.00      0.00      0.00         6\\n          29       1.00      0.00      0.00         1\\n          31       1.00      0.00      0.00         1\\n          32       1.00      0.00      0.00         1\\n          35       1.00      0.00      0.00         6\\n          43       1.00      0.00      0.00        42\\n          44       1.00      0.00      0.00         2\\n          47       1.00      0.00      0.00         9\\n          48       1.00      0.00      0.00         1\\n          52       1.00      0.00      0.00         7\\n          53       1.00      0.00      0.00         3\\n          58       1.00      0.00      0.00         3\\n          59       0.00      0.00      0.00        40\\n          60       1.00      0.00      0.00         1\\n          61       1.00      0.00      0.00         3\\n          62       1.00      0.00      0.00         7\\n          63       1.00      0.00      0.00         2\\n          64       1.00      0.00      0.00         1\\n          67       1.00      0.00      0.00         4\\n          72       1.00      0.00      0.00        22\\n          76       1.00      0.00      0.00         1\\n          77       1.00      0.00      0.00         2\\n          81       1.00      0.00      0.00         1\\n          82       1.00      0.00      0.00         1\\n          88       1.00      0.00      0.00         1\\n          96       1.00      0.00      0.00         1\\n          97       1.00      0.00      0.00        19\\n          98       1.00      0.00      0.00         1\\n         100       1.00      0.00      0.00         3\\n         103       1.00      0.00      0.00         7\\n         104       1.00      0.00      0.00         1\\n         111       1.00      0.00      0.00         1\\n         117       0.00      0.00      0.00        29\\n         119       1.00      0.00      0.00         4\\n         128       1.00      0.00      0.00         1\\n         129       1.00      0.00      0.00         3\\n         131       1.00      0.00      0.00         2\\n         133       1.00      0.00      0.00         6\\n         135       1.00      0.00      0.00         1\\n         136       1.00      0.00      0.00         1\\n         139       1.00      0.00      0.00         1\\n         144       1.00      0.00      0.00         1\\n         148       1.00      0.00      0.00         1\\n         153       1.00      0.00      0.00         1\\n         155       1.00      0.00      0.00         1\\n         156       1.00      0.00      0.00        39\\n         157       1.00      0.00      0.00         1\\n         158       1.00      0.00      0.00         4\\n         161       1.00      0.00      0.00         7\\n         163       1.00      0.00      0.00         1\\n         166       1.00      0.00      0.00         4\\n         167       1.00      0.00      0.00         7\\n         172       1.00      0.00      0.00         1\\n         173       1.00      0.00      0.00        15\\n         176       1.00      0.00      0.00         1\\n         177       1.00      0.00      0.00         5\\n         178       1.00      0.00      0.00         1\\n         179       1.00      0.00      0.00         3\\n         183       1.00      0.00      0.00         1\\n         186       1.00      0.00      0.00         9\\n         192       1.00      0.00      0.00         5\\n         203       1.00      0.00      0.00         1\\n         210       1.00      0.00      0.00         1\\n         215       1.00      0.00      0.00         1\\n         216       1.00      0.00      0.00         1\\n         218       1.00      0.00      0.00         1\\n         226       1.00      0.00      0.00         1\\n         229       1.00      0.00      0.00         2\\n         234       1.00      0.00      0.00         4\\n         236       1.00      0.00      0.00         1\\n         240       1.00      0.00      0.00         1\\n         242       1.00      0.00      0.00         1\\n         243       1.00      0.00      0.00         1\\n         244       1.00      0.00      0.00         1\\n         248       1.00      0.00      0.00         3\\n         250       1.00      0.00      0.00         1\\n         259       1.00      0.00      0.00         1\\n         263       1.00      0.00      0.00         1\\n         278       1.00      0.00      0.00         1\\n         279       1.00      0.00      0.00         1\\n         282       1.00      0.00      0.00         2\\n         283       1.00      0.00      0.00         1\\n         284       1.00      0.00      0.00         1\\n         286       1.00      0.00      0.00        25\\n         287       1.00      0.00      0.00         1\\n         289       1.00      0.00      0.00         1\\n         292       1.00      0.00      0.00         2\\n         302       1.00      0.00      0.00         1\\n         303       1.00      0.00      0.00         2\\n         307       1.00      0.00      0.00         3\\n         309       1.00      0.00      0.00         1\\n         311       1.00      0.00      0.00         1\\n         313       1.00      0.00      0.00         1\\n         316       1.00      0.00      0.00         1\\n         321       1.00      0.00      0.00         1\\n         322       1.00      0.00      0.00         9\\n         329       0.00      0.00      0.00        43\\n         330       1.00      0.00      0.00         6\\n         331       1.00      0.00      0.00         2\\n         332       1.00      0.00      0.00         1\\n         333       1.00      0.00      0.00         7\\n         341       1.00      0.00      0.00         7\\n         343       1.00      0.00      0.00         1\\n         347       1.00      0.00      0.00         1\\n         352       1.00      0.00      0.00        31\\n         355       1.00      0.00      0.00         1\\n         357       1.00      0.00      0.00         1\\n         358       1.00      0.00      0.00         6\\n         360       1.00      0.00      0.00         2\\n         361       1.00      0.00      0.00         1\\n         362       1.00      0.00      0.00         1\\n         364       1.00      0.00      0.00         1\\n         365       0.06      0.03      0.04       103\\n         366       1.00      0.00      0.00         4\\n         369       1.00      0.00      0.00         1\\n         370       1.00      0.00      0.00         4\\n         372       1.00      0.00      0.00         1\\n         378       1.00      0.00      0.00        10\\n         380       1.00      0.00      0.00         1\\n         382       1.00      0.00      0.00         1\\n         384       1.00      0.00      0.00         1\\n         386       1.00      0.00      0.00         7\\n         387       1.00      0.00      0.00         2\\n         389       1.00      0.00      0.00         1\\n         390       1.00      0.00      0.00         5\\n         393       0.06      0.06      0.06        87\\n         394       1.00      0.00      0.00         1\\n         395       1.00      0.00      0.00         5\\n         396       1.00      0.00      0.00         3\\n         400       1.00      0.00      0.00         2\\n         402       1.00      0.00      0.00         1\\n         403       1.00      0.00      0.00         1\\n         415       1.00      0.00      0.00        10\\n         416       1.00      0.00      0.00         2\\n         420       1.00      0.00      0.00         1\\n         424       1.00      0.00      0.00         1\\n         425       1.00      0.00      0.00         1\\n         427       1.00      0.00      0.00         7\\n         429       1.00      0.00      0.00         1\\n         433       1.00      0.00      0.00         4\\n         434       1.00      0.00      0.00         1\\n         435       1.00      0.00      0.00         1\\n         438       1.00      0.00      0.00         1\\n         440       1.00      0.00      0.00         1\\n         441       1.00      0.00      0.00         1\\n         442       1.00      0.00      0.00         1\\n         454       1.00      0.00      0.00         1\\n         457       1.00      0.00      0.00         3\\n         459       1.00      0.00      0.00         1\\n         463       1.00      0.00      0.00         1\\n         467       1.00      0.00      0.00         1\\n         473       1.00      0.00      0.00         1\\n         476       1.00      0.00      0.00        24\\n         484       1.00      0.00      0.00         1\\n         487       1.00      0.00      0.00         1\\n         488       1.00      0.00      0.00         2\\n         489       1.00      0.00      0.00         4\\n         491       1.00      0.00      0.00         1\\n         493       1.00      0.00      0.00         1\\n         494       1.00      0.00      0.00         1\\n         495       1.00      0.00      0.00        24\\n         498       1.00      0.00      0.00         2\\n         500       1.00      0.00      0.00         2\\n         501       1.00      0.00      0.00         1\\n         502       1.00      0.00      0.00         2\\n         505       1.00      0.00      0.00         2\\n         506       1.00      0.00      0.00         1\\n         511       1.00      0.00      0.00         2\\n         513       1.00      0.00      0.00         1\\n         514       1.00      0.00      0.00         1\\n         515       1.00      0.00      0.00         2\\n         516       1.00      0.00      0.00         1\\n         518       1.00      0.00      0.00        14\\n         520       1.00      0.00      0.00         4\\n         523       1.00      0.00      0.00         1\\n         525       1.00      0.00      0.00         1\\n         527       1.00      0.00      0.00         1\\n         536       1.00      0.00      0.00         3\\n         539       1.00      0.00      0.00         1\\n         541       1.00      0.00      0.00         1\\n         544       1.00      0.00      0.00         1\\n         545       1.00      0.00      0.00         7\\n         546       1.00      0.00      0.00         1\\n         553       1.00      0.00      0.00         1\\n         554       1.00      0.00      0.00         2\\n         558       1.00      0.00      0.00         1\\n         560       1.00      0.00      0.00        17\\n         564       1.00      0.00      0.00         1\\n         566       1.00      0.00      0.00         2\\n         570       1.00      0.00      0.00         1\\n         571       1.00      0.00      0.00         1\\n         572       1.00      0.00      0.00         1\\n         575       1.00      0.00      0.00         1\\n         576       1.00      0.00      0.00         1\\n         577       1.00      0.00      0.00         1\\n         581       1.00      0.00      0.00         6\\n         584       1.00      0.00      0.00         2\\n         586       1.00      0.00      0.00         1\\n         588       1.00      0.00      0.00         1\\n         589       1.00      0.00      0.00         1\\n         596       1.00      0.00      0.00        15\\n         597       1.00      0.00      0.00         1\\n         604       1.00      0.00      0.00         2\\n         606       1.00      0.00      0.00         1\\n         608       1.00      0.00      0.00         1\\n         609       1.00      0.00      0.00         1\\n         610       1.00      0.00      0.00         1\\n         617       1.00      0.00      0.00         7\\n         622       1.00      0.00      0.00         1\\n         624       1.00      0.00      0.00         1\\n         630       1.00      0.00      0.00         1\\n         636       1.00      0.00      0.00         5\\n         640       1.00      0.00      0.00         2\\n         642       1.00      0.00      0.00         1\\n         645       1.00      0.00      0.00         1\\n         646       1.00      0.00      0.00         1\\n         648       1.00      0.00      0.00         2\\n         649       1.00      0.00      0.00         6\\n         655       1.00      0.00      0.00         1\\n         656       1.00      0.00      0.00         4\\n         661       1.00      0.00      0.00         1\\n         662       1.00      0.00      0.00         1\\n         663       1.00      0.00      0.00         1\\n         664       1.00      0.00      0.00        11\\n         666       1.00      0.00      0.00         1\\n         667       1.00      0.00      0.00         1\\n         669       1.00      0.00      0.00         1\\n         670       1.00      0.00      0.00         1\\n         671       1.00      0.00      0.00         1\\n         673       1.00      0.00      0.00         1\\n         679       1.00      0.00      0.00         1\\n         681       1.00      0.00      0.00         1\\n         683       1.00      0.00      0.00         1\\n         684       1.00      0.00      0.00         1\\n         686       1.00      0.00      0.00         1\\n         688       1.00      0.00      0.00         1\\n         694       1.00      0.00      0.00         1\\n         695       1.00      0.00      0.00         4\\n         697       1.00      0.00      0.00         1\\n         698       1.00      0.00      0.00         1\\n         699       1.00      0.00      0.00         2\\n         704       1.00      0.00      0.00         1\\n         705       1.00      0.00      0.00         3\\n         707       1.00      0.00      0.00         1\\n         714       1.00      0.00      0.00         1\\n         715       1.00      0.00      0.00        10\\n         719       1.00      0.00      0.00         4\\n         721       1.00      0.00      0.00         1\\n         722       1.00      0.00      0.00         2\\n         723       1.00      0.00      0.00         1\\n         724       1.00      0.00      0.00         1\\n         727       1.00      0.00      0.00         1\\n         728       1.00      0.00      0.00         7\\n         733       1.00      0.00      0.00         5\\n         741       1.00      0.00      0.00         1\\n         744       1.00      0.00      0.00         4\\n         748       1.00      0.00      0.00        18\\n         753       1.00      0.00      0.00         3\\n         755       1.00      0.00      0.00         1\\n         757       1.00      0.00      0.00         1\\n         759       1.00      0.00      0.00         1\\n         761       1.00      0.00      0.00         1\\n         771       1.00      0.00      0.00         2\\n         774       1.00      0.00      0.00         4\\n         780       1.00      0.00      0.00         1\\n         786       1.00      0.00      0.00         1\\n         789       1.00      0.00      0.00         1\\n         792       1.00      0.00      0.00         1\\n         793       1.00      0.00      0.00         4\\n         796       1.00      0.00      0.00         1\\n         798       1.00      0.00      0.00         1\\n         799       1.00      0.00      0.00         2\\n         800       1.00      0.00      0.00         1\\n         802       1.00      0.00      0.00         1\\n         803       1.00      0.00      0.00         7\\n         806       1.00      0.00      0.00         1\\n         810       1.00      0.00      0.00         1\\n         815       1.00      0.00      0.00         1\\n         816       1.00      0.00      0.00         1\\n         817       1.00      0.00      0.00         1\\n         819       1.00      0.00      0.00         2\\n         820       1.00      0.00      0.00         1\\n         821       1.00      0.00      0.00         3\\n         822       1.00      0.00      0.00         1\\n         823       1.00      0.00      0.00         1\\n         825       1.00      0.00      0.00         1\\n         830       1.00      0.00      0.00         1\\n         833       1.00      0.00      0.00         1\\n         836       1.00      0.00      0.00         1\\n         846       1.00      0.00      0.00         1\\n         847       1.00      0.00      0.00         1\\n         848       1.00      0.00      0.00         1\\n         849       1.00      0.00      0.00         7\\n         850       1.00      0.00      0.00         2\\n         852       1.00      0.00      0.00         6\\n         864       1.00      0.00      0.00         1\\n         866       1.00      0.00      0.00         4\\n         868       1.00      0.00      0.00         1\\n         872       1.00      0.00      0.00         1\\n         873       1.00      0.00      0.00         4\\n         877       1.00      0.00      0.00         1\\n         881       1.00      0.00      0.00        19\\n         886       1.00      0.00      0.00         1\\n         887       0.00      0.00      0.00        31\\n         895       1.00      0.00      0.00         3\\n         897       1.00      0.00      0.00         1\\n         898       1.00      0.00      0.00         2\\n         901       1.00      0.00      0.00         1\\n         905       1.00      0.00      0.00         1\\n         908       1.00      0.00      0.00         1\\n         909       1.00      0.00      0.00         1\\n         914       1.00      0.00      0.00        10\\n         916       1.00      0.00      0.00         1\\n         920       1.00      0.00      0.00         1\\n         921       1.00      0.00      0.00         1\\n         923       1.00      0.00      0.00         1\\n         926       1.00      0.00      0.00         1\\n         927       1.00      0.00      0.00         1\\n         932       1.00      0.00      0.00         2\\n         937       1.00      0.00      0.00         1\\n         938       1.00      0.00      0.00         1\\n         942       1.00      0.00      0.00         5\\n         948       1.00      0.00      0.00         1\\n         953       1.00      0.00      0.00         1\\n         959       1.00      0.00      0.00         5\\n         961       1.00      0.00      0.00         1\\n         962       1.00      0.00      0.00         1\\n         963       1.00      0.00      0.00         1\\n         966       1.00      0.00      0.00         1\\n         968       1.00      0.00      0.00         1\\n         969       1.00      0.00      0.00         1\\n         972       1.00      0.00      0.00         5\\n         980       1.00      0.00      0.00         1\\n         981       1.00      0.00      0.00         1\\n         984       0.00      0.00      0.00        20\\n         987       1.00      0.00      0.00         1\\n         988       1.00      0.00      0.00         1\\n         989       1.00      0.00      0.00         1\\n         993       1.00      0.00      0.00         1\\n         994       1.00      0.00      0.00         1\\n        1000       1.00      0.00      0.00         1\\n        1003       1.00      0.00      0.00         1\\n        1005       1.00      0.00      0.00         5\\n        1008       1.00      0.00      0.00         1\\n        1010       1.00      0.00      0.00         1\\n        1011       1.00      0.00      0.00        13\\n        1013       1.00      0.00      0.00         1\\n        1020       1.00      0.00      0.00         2\\n        1021       1.00      0.00      0.00         1\\n        1022       1.00      0.00      0.00         1\\n        1024       1.00      0.00      0.00         2\\n        1026       1.00      0.00      0.00         1\\n        1029       1.00      0.00      0.00         3\\n        1037       1.00      0.00      0.00         1\\n        1038       1.00      0.00      0.00         1\\n        1039       1.00      0.00      0.00         6\\n        1040       1.00      0.00      0.00         1\\n        1045       1.00      0.00      0.00         1\\n        1048       1.00      0.00      0.00         1\\n        1050       1.00      0.00      0.00         1\\n        1054       1.00      0.00      0.00         1\\n        1057       1.00      0.00      0.00         1\\n        1065       1.00      0.00      0.00         1\\n        1071       1.00      0.00      0.00         1\\n        1077       1.00      0.00      0.00         1\\n        1078       1.00      0.00      0.00         2\\n        1083       1.00      0.00      0.00         1\\n        1087       1.00      0.00      0.00         1\\n        1088       1.00      0.00      0.00         1\\n        1089       1.00      0.00      0.00         2\\n        1096       1.00      0.00      0.00         1\\n        1107       1.00      0.00      0.00         1\\n        1111       1.00      0.00      0.00         1\\n        1114       1.00      0.00      0.00         1\\n        1115       1.00      0.00      0.00         1\\n        1119       1.00      0.00      0.00         1\\n        1122       1.00      0.00      0.00         1\\n        1123       1.00      0.00      0.00         1\\n        1127       0.06      0.01      0.02        96\\n        1130       1.00      0.00      0.00         1\\n        1135       1.00      0.00      0.00         3\\n        1138       1.00      0.00      0.00         1\\n        1140       1.00      0.00      0.00         1\\n        1141       1.00      0.00      0.00         1\\n        1142       1.00      0.00      0.00         1\\n        1145       1.00      0.00      0.00         1\\n        1146       1.00      0.00      0.00         1\\n        1147       1.00      0.00      0.00         1\\n        1149       1.00      0.00      0.00         1\\n        1150       1.00      0.00      0.00         1\\n        1156       1.00      0.00      0.00         3\\n        1161       1.00      0.00      0.00         1\\n        1162       1.00      0.00      0.00         2\\n        1165       1.00      0.00      0.00         1\\n        1167       1.00      0.00      0.00         1\\n\\n    accuracy                           0.19      1911\\n   macro avg       0.98      0.00      0.00      1911\\nweighted avg       0.62      0.19      0.07      1911\\n'"
      ]
     },
     "execution_count": 91,
     "metadata": {},
     "output_type": "execute_result"
    }
   ],
   "source": [
    "#Classification report\n",
    "classification_report(y_test_rnn, y_pred_rnn,zero_division=1)"
   ]
  },
  {
   "cell_type": "code",
   "execution_count": 94,
   "id": "c6b4c7ff-b923-4185-8da8-1040c058c9df",
   "metadata": {},
   "outputs": [
    {
     "data": {
      "text/plain": [
       "'              precision    recall  f1-score   support\\n\\n           0       0.22      0.95      0.36       363\\n           1       1.00      0.00      0.00         3\\n           2       1.00      0.00      0.00         1\\n           3       1.00      0.00      0.00         4\\n           4       1.00      0.00      0.00         4\\n           5       1.00      0.00      0.00         4\\n           6       1.00      0.00      0.00         1\\n           7       1.00      0.00      0.00         2\\n           8       1.00      0.00      0.00         1\\n           9       1.00      0.00      0.00         1\\n          10       1.00      0.00      0.00         1\\n          11       1.00      0.00      0.00         6\\n          12       1.00      0.00      0.00         1\\n          13       1.00      0.00      0.00         1\\n          14       1.00      0.00      0.00         1\\n          15       1.00      0.00      0.00         6\\n          16       0.17      0.02      0.04        42\\n          17       1.00      0.00      0.00         2\\n          18       1.00      0.00      0.00         9\\n          19       1.00      0.00      0.00         1\\n          20       1.00      0.00      0.00         7\\n          21       1.00      0.00      0.00         3\\n          22       1.00      0.00      0.00         3\\n          23       0.00      0.00      0.00        40\\n          24       1.00      0.00      0.00         1\\n          25       1.00      0.00      0.00         3\\n          26       1.00      0.00      0.00         7\\n          27       1.00      0.00      0.00         2\\n          28       1.00      0.00      0.00         1\\n          29       0.00      0.00      0.00         4\\n          30       0.00      0.00      0.00        22\\n          31       1.00      0.00      0.00         1\\n          32       1.00      0.00      0.00         2\\n          33       1.00      0.00      0.00         1\\n          34       1.00      0.00      0.00         1\\n          35       1.00      0.00      0.00         1\\n          36       1.00      0.00      0.00         1\\n          37       1.00      0.00      0.00        19\\n          38       1.00      0.00      0.00         1\\n          39       1.00      0.00      0.00         3\\n          40       1.00      0.00      0.00         7\\n          41       1.00      0.00      0.00         1\\n          42       1.00      0.00      0.00         1\\n          43       0.00      0.00      0.00        29\\n          44       1.00      0.00      0.00         4\\n          45       1.00      0.00      0.00         1\\n          46       0.00      0.00      0.00         3\\n          47       1.00      0.00      0.00         2\\n          48       1.00      0.00      0.00         6\\n          49       1.00      0.00      0.00         1\\n          50       1.00      0.00      0.00         1\\n          51       1.00      0.00      0.00         1\\n          52       1.00      0.00      0.00         1\\n          53       1.00      0.00      0.00         1\\n          54       1.00      0.00      0.00         1\\n          55       1.00      0.00      0.00         1\\n          56       0.00      0.00      0.00        39\\n          57       1.00      0.00      0.00         1\\n          58       1.00      0.00      0.00         4\\n          59       1.00      0.00      0.00         7\\n          60       1.00      0.00      0.00         1\\n          61       1.00      0.00      0.00         4\\n          62       0.00      0.00      0.00         7\\n          63       1.00      0.00      0.00         1\\n          64       1.00      0.00      0.00        15\\n          65       1.00      0.00      0.00         1\\n          66       1.00      0.00      0.00         5\\n          67       1.00      0.00      0.00         1\\n          68       1.00      0.00      0.00         3\\n          69       1.00      0.00      0.00         1\\n          70       1.00      0.00      0.00         9\\n          71       1.00      0.00      0.00         5\\n          72       1.00      0.00      0.00         1\\n          73       1.00      0.00      0.00         1\\n          74       1.00      0.00      0.00         1\\n          75       1.00      0.00      0.00         1\\n          76       1.00      0.00      0.00         1\\n          77       1.00      0.00      0.00         1\\n          78       1.00      0.00      0.00         2\\n          79       1.00      0.00      0.00         4\\n          80       1.00      0.00      0.00         1\\n          81       1.00      0.00      0.00         1\\n          82       1.00      0.00      0.00         1\\n          83       1.00      0.00      0.00         1\\n          84       1.00      0.00      0.00         1\\n          85       1.00      0.00      0.00         3\\n          86       1.00      0.00      0.00         1\\n          87       1.00      0.00      0.00         1\\n          88       1.00      0.00      0.00         1\\n          89       1.00      0.00      0.00         1\\n          90       1.00      0.00      0.00         1\\n          91       1.00      0.00      0.00         2\\n          92       1.00      0.00      0.00         1\\n          93       1.00      0.00      0.00         1\\n          94       1.00      0.04      0.08        25\\n          95       1.00      0.00      0.00         1\\n          96       1.00      0.00      0.00         1\\n          97       1.00      0.00      0.00         2\\n          98       1.00      0.00      0.00         1\\n          99       1.00      0.00      0.00         2\\n         100       1.00      0.00      0.00         3\\n         101       1.00      0.00      0.00         1\\n         102       1.00      0.00      0.00         1\\n         103       1.00      0.00      0.00         1\\n         104       1.00      0.00      0.00         1\\n         105       1.00      0.00      0.00         1\\n         106       1.00      0.00      0.00         9\\n         107       0.00      0.00      0.00        43\\n         108       1.00      0.00      0.00         6\\n         109       1.00      0.00      0.00         2\\n         110       1.00      0.00      0.00         1\\n         111       1.00      0.00      0.00         7\\n         112       1.00      0.00      0.00         7\\n         113       1.00      0.00      0.00         1\\n         114       1.00      0.00      0.00         1\\n         115       1.00      0.03      0.06        31\\n         116       1.00      0.00      0.00         1\\n         117       1.00      0.00      0.00         1\\n         118       1.00      0.00      0.00         6\\n         119       1.00      0.00      0.00         2\\n         120       1.00      0.00      0.00         1\\n         121       1.00      0.00      0.00         1\\n         122       1.00      0.00      0.00         1\\n         123       0.05      0.05      0.05       103\\n         124       1.00      0.00      0.00         4\\n         125       1.00      0.00      0.00         1\\n         126       1.00      0.00      0.00         4\\n         127       1.00      0.00      0.00         1\\n         128       1.00      0.00      0.00        10\\n         129       1.00      0.00      0.00         1\\n         130       1.00      0.00      0.00         1\\n         131       1.00      0.00      0.00         1\\n         132       1.00      0.00      0.00         7\\n         133       1.00      0.00      0.00         2\\n         134       1.00      0.00      0.00         1\\n         135       1.00      0.00      0.00         5\\n         136       0.03      0.05      0.04        87\\n         137       1.00      0.00      0.00         1\\n         138       1.00      0.00      0.00         5\\n         139       1.00      0.00      0.00         3\\n         140       1.00      0.00      0.00         2\\n         141       1.00      0.00      0.00         1\\n         142       1.00      0.00      0.00         1\\n         143       1.00      0.00      0.00        10\\n         144       1.00      0.00      0.00         2\\n         145       1.00      0.00      0.00         1\\n         146       1.00      0.00      0.00         1\\n         147       1.00      0.00      0.00         1\\n         148       1.00      0.00      0.00         7\\n         149       1.00      0.00      0.00         1\\n         150       1.00      0.00      0.00         4\\n         151       1.00      0.00      0.00         1\\n         152       1.00      0.00      0.00         1\\n         153       1.00      0.00      0.00         1\\n         154       1.00      0.00      0.00         1\\n         155       1.00      0.00      0.00         1\\n         156       1.00      0.00      0.00         1\\n         157       1.00      0.00      0.00         1\\n         158       1.00      0.00      0.00         3\\n         159       1.00      0.00      0.00         1\\n         160       1.00      0.00      0.00         1\\n         161       1.00      0.00      0.00         1\\n         162       1.00      0.00      0.00         1\\n         163       0.00      0.00      0.00        24\\n         164       1.00      0.00      0.00         1\\n         165       1.00      0.00      0.00         1\\n         166       1.00      0.00      0.00         2\\n         167       1.00      0.00      0.00         4\\n         168       1.00      0.00      0.00         1\\n         169       1.00      0.00      0.00         1\\n         170       1.00      0.00      0.00         1\\n         171       0.50      0.04      0.08        24\\n         172       1.00      0.00      0.00         2\\n         173       1.00      0.00      0.00         2\\n         174       1.00      0.00      0.00         1\\n         175       1.00      0.00      0.00         2\\n         176       1.00      0.00      0.00         2\\n         177       1.00      0.00      0.00         1\\n         178       1.00      0.00      0.00         2\\n         179       1.00      0.00      0.00         1\\n         180       1.00      0.00      0.00         1\\n         181       1.00      0.00      0.00         2\\n         182       1.00      0.00      0.00         1\\n         183       1.00      0.00      0.00        14\\n         184       1.00      0.00      0.00         4\\n         185       1.00      0.00      0.00         1\\n         186       1.00      0.00      0.00         1\\n         187       1.00      0.00      0.00         1\\n         188       1.00      0.00      0.00         3\\n         189       1.00      0.00      0.00         1\\n         190       1.00      0.00      0.00         1\\n         191       1.00      0.00      0.00         1\\n         192       0.00      0.00      0.00         7\\n         193       1.00      0.00      0.00         1\\n         194       1.00      0.00      0.00         1\\n         195       1.00      0.00      0.00         2\\n         196       1.00      0.00      0.00         1\\n         197       0.00      0.00      0.00        17\\n         198       1.00      0.00      0.00         1\\n         199       1.00      0.00      0.00         2\\n         200       1.00      0.00      0.00         1\\n         201       1.00      0.00      0.00         1\\n         202       1.00      0.00      0.00         1\\n         203       1.00      0.00      0.00         1\\n         204       1.00      0.00      0.00         1\\n         205       1.00      0.00      0.00         1\\n         206       1.00      0.00      0.00         6\\n         207       1.00      0.00      0.00         2\\n         208       1.00      0.00      0.00         1\\n         209       1.00      0.00      0.00         1\\n         210       1.00      0.00      0.00         1\\n         211       1.00      0.00      0.00        15\\n         212       1.00      0.00      0.00         1\\n         213       1.00      0.00      0.00         2\\n         214       1.00      0.00      0.00         1\\n         215       1.00      0.00      0.00         1\\n         216       1.00      0.00      0.00         1\\n         217       1.00      0.00      0.00         1\\n         218       1.00      0.00      0.00         7\\n         219       1.00      0.00      0.00         1\\n         220       1.00      0.00      0.00         1\\n         221       1.00      0.00      0.00         1\\n         222       1.00      0.00      0.00         5\\n         223       1.00      0.00      0.00         2\\n         224       1.00      0.00      0.00         1\\n         225       1.00      0.00      0.00         1\\n         226       1.00      0.00      0.00         1\\n         227       1.00      0.00      0.00         2\\n         228       1.00      0.00      0.00         6\\n         229       1.00      0.00      0.00         1\\n         230       1.00      0.00      0.00         4\\n         231       1.00      0.00      0.00         1\\n         232       1.00      0.00      0.00         1\\n         233       1.00      0.00      0.00         1\\n         234       1.00      0.00      0.00        11\\n         235       1.00      0.00      0.00         1\\n         236       1.00      0.00      0.00         1\\n         237       1.00      0.00      0.00         1\\n         238       1.00      0.00      0.00         1\\n         239       1.00      0.00      0.00         1\\n         240       1.00      0.00      0.00         1\\n         241       1.00      0.00      0.00         1\\n         242       1.00      0.00      0.00         1\\n         243       1.00      0.00      0.00         1\\n         244       1.00      0.00      0.00         1\\n         245       1.00      0.00      0.00         1\\n         246       1.00      0.00      0.00         1\\n         247       1.00      0.00      0.00         1\\n         248       0.00      0.00      0.00         4\\n         249       1.00      0.00      0.00         1\\n         250       1.00      0.00      0.00         1\\n         251       1.00      0.00      0.00         2\\n         252       1.00      0.00      0.00         1\\n         253       1.00      0.00      0.00         3\\n         254       1.00      0.00      0.00         1\\n         255       1.00      0.00      0.00         1\\n         256       1.00      0.00      0.00        10\\n         257       1.00      0.00      0.00         4\\n         258       1.00      0.00      0.00         1\\n         259       1.00      0.00      0.00         2\\n         260       1.00      0.00      0.00         1\\n         261       1.00      0.00      0.00         1\\n         262       1.00      0.00      0.00         1\\n         263       1.00      0.00      0.00         7\\n         264       1.00      0.00      0.00         5\\n         265       1.00      0.00      0.00         1\\n         266       1.00      0.00      0.00         4\\n         267       1.00      0.00      0.00        18\\n         268       1.00      0.00      0.00         3\\n         269       1.00      0.00      0.00         1\\n         270       1.00      0.00      0.00         1\\n         271       1.00      0.00      0.00         1\\n         272       1.00      0.00      0.00         1\\n         273       1.00      0.00      0.00         2\\n         274       1.00      0.00      0.00         4\\n         275       1.00      0.00      0.00         1\\n         276       1.00      0.00      0.00         1\\n         277       1.00      0.00      0.00         1\\n         278       1.00      0.00      0.00         1\\n         279       1.00      0.00      0.00         4\\n         280       1.00      0.00      0.00         1\\n         281       1.00      0.00      0.00         1\\n         282       1.00      0.00      0.00         2\\n         283       1.00      0.00      0.00         1\\n         284       1.00      0.00      0.00         1\\n         285       1.00      0.00      0.00         7\\n         286       1.00      0.00      0.00         1\\n         287       1.00      0.00      0.00         1\\n         288       1.00      0.00      0.00         1\\n         289       1.00      0.00      0.00         1\\n         290       1.00      0.00      0.00         1\\n         291       1.00      0.00      0.00         2\\n         292       1.00      0.00      0.00         1\\n         293       1.00      0.00      0.00         3\\n         294       1.00      0.00      0.00         1\\n         295       1.00      0.00      0.00         1\\n         296       1.00      0.00      0.00         1\\n         297       1.00      0.00      0.00         1\\n         298       1.00      0.00      0.00         1\\n         299       1.00      0.00      0.00         1\\n         300       1.00      0.00      0.00         1\\n         301       1.00      0.00      0.00         1\\n         302       1.00      0.00      0.00         1\\n         303       1.00      0.00      0.00         7\\n         304       1.00      0.00      0.00         2\\n         305       1.00      0.00      0.00         6\\n         306       1.00      0.00      0.00         1\\n         307       1.00      0.00      0.00         4\\n         308       1.00      0.00      0.00         1\\n         309       1.00      0.00      0.00         1\\n         310       1.00      0.00      0.00         4\\n         311       1.00      0.00      0.00         1\\n         312       1.00      0.00      0.00        19\\n         313       1.00      0.00      0.00         1\\n         314       0.00      0.00      0.00        31\\n         315       1.00      0.00      0.00         3\\n         316       1.00      0.00      0.00         1\\n         317       1.00      0.00      0.00         2\\n         318       1.00      0.00      0.00         1\\n         319       1.00      0.00      0.00         1\\n         320       1.00      0.00      0.00         1\\n         321       1.00      0.00      0.00         1\\n         322       1.00      0.00      0.00        10\\n         323       1.00      0.00      0.00         1\\n         324       1.00      0.00      0.00         1\\n         325       1.00      0.00      0.00         1\\n         326       1.00      0.00      0.00         1\\n         327       1.00      0.00      0.00         1\\n         328       1.00      0.00      0.00         1\\n         329       1.00      0.00      0.00         2\\n         330       1.00      0.00      0.00         1\\n         331       1.00      0.00      0.00         1\\n         332       1.00      0.00      0.00         5\\n         333       1.00      0.00      0.00         1\\n         334       1.00      0.00      0.00         1\\n         335       1.00      0.00      0.00         5\\n         336       1.00      0.00      0.00         1\\n         337       1.00      0.00      0.00         1\\n         338       1.00      0.00      0.00         1\\n         339       1.00      0.00      0.00         1\\n         340       1.00      0.00      0.00         1\\n         341       1.00      0.00      0.00         1\\n         342       1.00      0.00      0.00         5\\n         343       1.00      0.00      0.00         1\\n         344       1.00      0.00      0.00         1\\n         345       1.00      0.00      0.00        20\\n         346       1.00      0.00      0.00         1\\n         347       1.00      0.00      0.00         1\\n         348       1.00      0.00      0.00         1\\n         349       1.00      0.00      0.00         1\\n         350       1.00      0.00      0.00         1\\n         351       1.00      0.00      0.00         1\\n         352       1.00      0.00      0.00         1\\n         353       1.00      0.00      0.00         5\\n         354       1.00      0.00      0.00         1\\n         355       1.00      0.00      0.00         1\\n         356       1.00      0.00      0.00        13\\n         357       1.00      0.00      0.00         1\\n         358       1.00      0.00      0.00         2\\n         359       1.00      0.00      0.00         1\\n         360       1.00      0.00      0.00         1\\n         361       1.00      0.00      0.00         2\\n         362       1.00      0.00      0.00         1\\n         363       1.00      0.00      0.00         3\\n         364       1.00      0.00      0.00         1\\n         365       1.00      0.00      0.00         1\\n         366       1.00      0.00      0.00         6\\n         367       1.00      0.00      0.00         1\\n         368       1.00      0.00      0.00         1\\n         369       1.00      0.00      0.00         1\\n         370       1.00      0.00      0.00         1\\n         371       1.00      0.00      0.00         1\\n         372       1.00      0.00      0.00         1\\n         373       1.00      0.00      0.00         1\\n         374       1.00      0.00      0.00         1\\n         375       1.00      0.00      0.00         1\\n         376       1.00      0.00      0.00         2\\n         377       1.00      0.00      0.00         1\\n         378       1.00      0.00      0.00         1\\n         379       1.00      0.00      0.00         1\\n         380       1.00      0.00      0.00         2\\n         381       1.00      0.00      0.00         1\\n         382       1.00      0.00      0.00         1\\n         383       1.00      0.00      0.00         1\\n         384       1.00      0.00      0.00         1\\n         385       1.00      0.00      0.00         1\\n         386       1.00      0.00      0.00         1\\n         387       1.00      0.00      0.00         1\\n         388       1.00      0.00      0.00         1\\n         389       0.10      0.09      0.10        96\\n         390       1.00      0.00      0.00         1\\n         391       1.00      0.00      0.00         3\\n         392       1.00      0.00      0.00         1\\n         393       1.00      0.00      0.00         1\\n         394       1.00      0.00      0.00         1\\n         395       1.00      0.00      0.00         1\\n         396       1.00      0.00      0.00         1\\n         397       1.00      0.00      0.00         1\\n         398       1.00      0.00      0.00         1\\n         399       1.00      0.00      0.00         1\\n         400       1.00      0.00      0.00         1\\n         401       1.00      0.00      0.00         3\\n         402       1.00      0.00      0.00         1\\n         403       1.00      0.00      0.00         2\\n         404       1.00      0.00      0.00         1\\n         405       1.00      0.00      0.00         1\\n\\n   micro avg       0.19      0.19      0.19      1911\\n   macro avg       0.96      0.00      0.00      1911\\nweighted avg       0.55      0.19      0.08      1911\\n samples avg       0.19      0.19      0.19      1911\\n'"
      ]
     },
     "execution_count": 94,
     "metadata": {},
     "output_type": "execute_result"
    }
   ],
   "source": [
    "classification_report(y_test_lsa, y_pred_lsa,zero_division=1)"
   ]
  },
  {
   "cell_type": "code",
   "execution_count": 93,
   "id": "cf2abe99-1520-4af3-9d04-fb167889957d",
   "metadata": {},
   "outputs": [
    {
     "data": {
      "text/plain": [
       "'              precision    recall  f1-score   support\\n\\n           0       0.20      0.94      0.33       363\\n           1       1.00      0.00      0.00         3\\n           2       1.00      0.00      0.00         1\\n           3       1.00      0.00      0.00         4\\n           5       1.00      0.00      0.00         4\\n          10       1.00      0.00      0.00         4\\n          11       1.00      0.00      0.00         1\\n          13       1.00      0.00      0.00         2\\n          14       1.00      0.00      0.00         1\\n          19       1.00      0.00      0.00         1\\n          25       1.00      0.00      0.00         1\\n          26       1.00      0.00      0.00         6\\n          29       1.00      0.00      0.00         1\\n          31       1.00      0.00      0.00         1\\n          32       1.00      0.00      0.00         1\\n          35       1.00      0.00      0.00         6\\n          43       0.00      0.00      0.00        42\\n          44       1.00      0.00      0.00         2\\n          47       1.00      0.00      0.00         9\\n          48       1.00      0.00      0.00         1\\n          52       1.00      0.00      0.00         7\\n          53       1.00      0.00      0.00         3\\n          58       1.00      0.00      0.00         3\\n          59       1.00      0.00      0.00        40\\n          60       1.00      0.00      0.00         1\\n          61       1.00      0.00      0.00         3\\n          62       1.00      0.00      0.00         7\\n          63       1.00      0.00      0.00         2\\n          64       1.00      0.00      0.00         1\\n          67       1.00      0.00      0.00         4\\n          72       0.00      0.00      0.00        22\\n          76       1.00      0.00      0.00         1\\n          77       0.00      0.00      0.00         2\\n          81       1.00      0.00      0.00         1\\n          82       1.00      0.00      0.00         1\\n          88       1.00      0.00      0.00         1\\n          96       1.00      0.00      0.00         1\\n          97       0.00      0.00      0.00        19\\n          98       1.00      0.00      0.00         1\\n         100       1.00      0.00      0.00         3\\n         103       1.00      0.00      0.00         7\\n         104       1.00      0.00      0.00         1\\n         111       1.00      0.00      0.00         1\\n         117       1.00      0.00      0.00        29\\n         119       1.00      0.00      0.00         4\\n         128       1.00      0.00      0.00         1\\n         129       0.00      0.00      0.00         3\\n         131       1.00      0.00      0.00         2\\n         133       1.00      0.00      0.00         6\\n         135       1.00      0.00      0.00         1\\n         136       1.00      0.00      0.00         1\\n         139       1.00      0.00      0.00         1\\n         144       1.00      0.00      0.00         1\\n         148       1.00      0.00      0.00         1\\n         153       1.00      0.00      0.00         1\\n         155       1.00      0.00      0.00         1\\n         156       1.00      0.00      0.00        39\\n         157       1.00      0.00      0.00         1\\n         158       1.00      0.00      0.00         4\\n         161       1.00      0.00      0.00         7\\n         163       1.00      0.00      0.00         1\\n         166       1.00      0.00      0.00         4\\n         167       1.00      0.00      0.00         7\\n         172       1.00      0.00      0.00         1\\n         173       1.00      0.00      0.00        15\\n         176       1.00      0.00      0.00         1\\n         177       1.00      0.00      0.00         5\\n         178       1.00      0.00      0.00         1\\n         179       1.00      0.00      0.00         3\\n         183       1.00      0.00      0.00         1\\n         186       1.00      0.00      0.00         9\\n         192       1.00      0.00      0.00         5\\n         203       1.00      0.00      0.00         1\\n         210       1.00      0.00      0.00         1\\n         215       1.00      0.00      0.00         1\\n         216       1.00      0.00      0.00         1\\n         218       1.00      0.00      0.00         1\\n         226       1.00      0.00      0.00         1\\n         229       1.00      0.00      0.00         2\\n         234       1.00      0.00      0.00         4\\n         236       1.00      0.00      0.00         1\\n         240       1.00      0.00      0.00         1\\n         242       1.00      0.00      0.00         1\\n         243       1.00      0.00      0.00         1\\n         244       1.00      0.00      0.00         1\\n         248       1.00      0.00      0.00         3\\n         250       1.00      0.00      0.00         1\\n         259       1.00      0.00      0.00         1\\n         263       1.00      0.00      0.00         1\\n         278       1.00      0.00      0.00         1\\n         279       1.00      0.00      0.00         1\\n         282       1.00      0.00      0.00         2\\n         283       1.00      0.00      0.00         1\\n         284       1.00      0.00      0.00         1\\n         286       1.00      0.04      0.08        25\\n         287       1.00      0.00      0.00         1\\n         289       1.00      0.00      0.00         1\\n         292       1.00      0.00      0.00         2\\n         302       1.00      0.00      0.00         1\\n         303       1.00      0.00      0.00         2\\n         307       1.00      0.00      0.00         3\\n         309       1.00      0.00      0.00         1\\n         311       1.00      0.00      0.00         1\\n         313       1.00      0.00      0.00         1\\n         316       1.00      0.00      0.00         1\\n         321       1.00      0.00      0.00         1\\n         322       1.00      0.00      0.00         9\\n         329       0.00      0.00      0.00        43\\n         330       1.00      0.00      0.00         6\\n         331       1.00      0.00      0.00         2\\n         332       1.00      0.00      0.00         1\\n         333       1.00      0.00      0.00         7\\n         341       1.00      0.00      0.00         7\\n         343       1.00      0.00      0.00         1\\n         347       1.00      0.00      0.00         1\\n         352       0.25      0.10      0.14        31\\n         355       1.00      0.00      0.00         1\\n         357       1.00      0.00      0.00         1\\n         358       1.00      0.00      0.00         6\\n         360       1.00      0.00      0.00         2\\n         361       1.00      0.00      0.00         1\\n         362       1.00      0.00      0.00         1\\n         364       1.00      0.00      0.00         1\\n         365       0.04      0.02      0.03       103\\n         366       0.00      0.00      0.00         4\\n         369       1.00      0.00      0.00         1\\n         370       1.00      0.00      0.00         4\\n         372       1.00      0.00      0.00         1\\n         378       1.00      0.00      0.00        10\\n         380       1.00      0.00      0.00         1\\n         382       1.00      0.00      0.00         1\\n         384       1.00      0.00      0.00         1\\n         386       1.00      0.00      0.00         7\\n         387       1.00      0.00      0.00         2\\n         389       1.00      0.00      0.00         1\\n         390       1.00      0.00      0.00         5\\n         393       0.08      0.09      0.09        87\\n         394       1.00      0.00      0.00         1\\n         395       0.00      0.00      0.00         5\\n         396       1.00      0.00      0.00         3\\n         400       1.00      0.00      0.00         2\\n         402       1.00      0.00      0.00         1\\n         403       1.00      0.00      0.00         1\\n         415       1.00      0.00      0.00        10\\n         416       1.00      0.00      0.00         2\\n         420       1.00      0.00      0.00         1\\n         424       1.00      0.00      0.00         1\\n         425       1.00      0.00      0.00         1\\n         427       1.00      0.00      0.00         7\\n         429       1.00      0.00      0.00         1\\n         433       1.00      0.00      0.00         4\\n         434       1.00      0.00      0.00         1\\n         435       1.00      0.00      0.00         1\\n         438       1.00      0.00      0.00         1\\n         440       1.00      0.00      0.00         1\\n         441       1.00      0.00      0.00         1\\n         442       1.00      0.00      0.00         1\\n         454       1.00      0.00      0.00         1\\n         457       1.00      0.00      0.00         3\\n         459       1.00      0.00      0.00         1\\n         463       1.00      0.00      0.00         1\\n         467       1.00      0.00      0.00         1\\n         473       1.00      0.00      0.00         1\\n         476       0.00      0.00      0.00        24\\n         484       1.00      0.00      0.00         1\\n         487       1.00      0.00      0.00         1\\n         488       1.00      0.00      0.00         2\\n         489       1.00      0.00      0.00         4\\n         491       1.00      0.00      0.00         1\\n         493       1.00      0.00      0.00         1\\n         494       1.00      0.00      0.00         1\\n         495       0.00      0.00      0.00        24\\n         498       1.00      0.00      0.00         2\\n         500       1.00      0.00      0.00         2\\n         501       1.00      0.00      0.00         1\\n         502       1.00      0.00      0.00         2\\n         505       1.00      0.00      0.00         2\\n         506       1.00      0.00      0.00         1\\n         511       0.00      0.00      0.00         2\\n         513       1.00      0.00      0.00         1\\n         514       1.00      0.00      0.00         1\\n         515       1.00      0.00      0.00         2\\n         516       1.00      0.00      0.00         1\\n         518       1.00      0.00      0.00        14\\n         520       1.00      0.00      0.00         4\\n         523       1.00      0.00      0.00         1\\n         525       1.00      0.00      0.00         1\\n         527       1.00      0.00      0.00         1\\n         536       1.00      0.00      0.00         3\\n         539       1.00      0.00      0.00         1\\n         541       1.00      0.00      0.00         1\\n         544       1.00      0.00      0.00         1\\n         545       1.00      0.00      0.00         7\\n         546       1.00      0.00      0.00         1\\n         553       1.00      0.00      0.00         1\\n         554       1.00      0.00      0.00         2\\n         558       1.00      0.00      0.00         1\\n         560       0.00      0.00      0.00        17\\n         564       1.00      0.00      0.00         1\\n         566       1.00      0.00      0.00         2\\n         570       1.00      0.00      0.00         1\\n         571       1.00      0.00      0.00         1\\n         572       1.00      0.00      0.00         1\\n         575       1.00      0.00      0.00         1\\n         576       1.00      0.00      0.00         1\\n         577       1.00      0.00      0.00         1\\n         581       1.00      0.00      0.00         6\\n         584       1.00      0.00      0.00         2\\n         586       1.00      0.00      0.00         1\\n         588       1.00      0.00      0.00         1\\n         589       1.00      0.00      0.00         1\\n         596       1.00      0.00      0.00        15\\n         597       1.00      0.00      0.00         1\\n         604       1.00      0.00      0.00         2\\n         606       1.00      0.00      0.00         1\\n         608       1.00      0.00      0.00         1\\n         609       1.00      0.00      0.00         1\\n         610       1.00      0.00      0.00         1\\n         617       0.00      0.00      0.00         7\\n         622       1.00      0.00      0.00         1\\n         624       0.00      0.00      0.00         1\\n         630       1.00      0.00      0.00         1\\n         636       1.00      0.00      0.00         5\\n         640       1.00      0.00      0.00         2\\n         642       1.00      0.00      0.00         1\\n         645       1.00      0.00      0.00         1\\n         646       1.00      0.00      0.00         1\\n         648       0.00      0.00      0.00         2\\n         649       1.00      0.00      0.00         6\\n         655       1.00      0.00      0.00         1\\n         656       1.00      0.00      0.00         4\\n         661       0.00      0.00      0.00         1\\n         662       1.00      0.00      0.00         1\\n         663       1.00      0.00      0.00         1\\n         664       1.00      0.00      0.00        11\\n         666       1.00      0.00      0.00         1\\n         667       1.00      0.00      0.00         1\\n         669       1.00      0.00      0.00         1\\n         670       1.00      0.00      0.00         1\\n         671       1.00      0.00      0.00         1\\n         673       1.00      0.00      0.00         1\\n         679       1.00      0.00      0.00         1\\n         681       1.00      0.00      0.00         1\\n         683       1.00      0.00      0.00         1\\n         684       1.00      0.00      0.00         1\\n         686       1.00      0.00      0.00         1\\n         688       1.00      0.00      0.00         1\\n         694       1.00      0.00      0.00         1\\n         695       1.00      0.00      0.00         4\\n         697       1.00      0.00      0.00         1\\n         698       1.00      0.00      0.00         1\\n         699       1.00      0.00      0.00         2\\n         704       1.00      0.00      0.00         1\\n         705       1.00      0.00      0.00         3\\n         707       1.00      0.00      0.00         1\\n         714       1.00      0.00      0.00         1\\n         715       1.00      0.00      0.00        10\\n         719       1.00      0.00      0.00         4\\n         721       1.00      0.00      0.00         1\\n         722       1.00      0.00      0.00         2\\n         723       1.00      0.00      0.00         1\\n         724       1.00      0.00      0.00         1\\n         727       1.00      0.00      0.00         1\\n         728       1.00      0.00      0.00         7\\n         733       1.00      0.00      0.00         5\\n         741       1.00      0.00      0.00         1\\n         744       1.00      0.00      0.00         4\\n         748       1.00      0.00      0.00        18\\n         753       1.00      0.00      0.00         3\\n         755       1.00      0.00      0.00         1\\n         757       1.00      0.00      0.00         1\\n         759       1.00      0.00      0.00         1\\n         761       1.00      0.00      0.00         1\\n         771       1.00      0.00      0.00         2\\n         774       1.00      0.00      0.00         4\\n         780       1.00      0.00      0.00         1\\n         786       1.00      0.00      0.00         1\\n         789       1.00      0.00      0.00         1\\n         792       1.00      0.00      0.00         1\\n         793       1.00      0.00      0.00         4\\n         796       1.00      0.00      0.00         1\\n         798       1.00      0.00      0.00         1\\n         799       1.00      0.00      0.00         2\\n         800       1.00      0.00      0.00         1\\n         802       1.00      0.00      0.00         1\\n         803       1.00      0.00      0.00         7\\n         806       1.00      0.00      0.00         1\\n         810       1.00      0.00      0.00         1\\n         815       1.00      0.00      0.00         1\\n         816       1.00      0.00      0.00         1\\n         817       1.00      0.00      0.00         1\\n         819       1.00      0.00      0.00         2\\n         820       1.00      0.00      0.00         1\\n         821       1.00      0.00      0.00         3\\n         822       1.00      0.00      0.00         1\\n         823       1.00      0.00      0.00         1\\n         825       1.00      0.00      0.00         1\\n         830       1.00      0.00      0.00         1\\n         833       1.00      0.00      0.00         1\\n         836       1.00      0.00      0.00         1\\n         846       1.00      0.00      0.00         1\\n         847       1.00      0.00      0.00         1\\n         848       1.00      0.00      0.00         1\\n         849       1.00      0.00      0.00         7\\n         850       1.00      0.00      0.00         2\\n         852       1.00      0.00      0.00         6\\n         864       1.00      0.00      0.00         1\\n         866       1.00      0.00      0.00         4\\n         868       1.00      0.00      0.00         1\\n         872       1.00      0.00      0.00         1\\n         873       1.00      0.00      0.00         4\\n         877       1.00      0.00      0.00         1\\n         881       1.00      0.00      0.00        19\\n         886       1.00      0.00      0.00         1\\n         887       0.00      0.00      0.00        31\\n         895       1.00      0.00      0.00         3\\n         897       1.00      0.00      0.00         1\\n         898       1.00      0.00      0.00         2\\n         901       1.00      0.00      0.00         1\\n         905       1.00      0.00      0.00         1\\n         908       1.00      0.00      0.00         1\\n         909       1.00      0.00      0.00         1\\n         914       1.00      0.00      0.00        10\\n         916       1.00      0.00      0.00         1\\n         920       1.00      0.00      0.00         1\\n         921       1.00      0.00      0.00         1\\n         923       1.00      0.00      0.00         1\\n         926       1.00      0.00      0.00         1\\n         927       1.00      0.00      0.00         1\\n         932       1.00      0.00      0.00         2\\n         937       1.00      0.00      0.00         1\\n         938       1.00      0.00      0.00         1\\n         942       1.00      0.00      0.00         5\\n         948       1.00      0.00      0.00         1\\n         953       1.00      0.00      0.00         1\\n         959       1.00      0.00      0.00         5\\n         961       1.00      0.00      0.00         1\\n         962       1.00      0.00      0.00         1\\n         963       1.00      0.00      0.00         1\\n         966       1.00      0.00      0.00         1\\n         968       1.00      0.00      0.00         1\\n         969       1.00      0.00      0.00         1\\n         972       1.00      0.00      0.00         5\\n         980       1.00      0.00      0.00         1\\n         981       1.00      0.00      0.00         1\\n         984       0.00      0.00      0.00        20\\n         987       1.00      0.00      0.00         1\\n         988       1.00      0.00      0.00         1\\n         989       1.00      0.00      0.00         1\\n         993       1.00      0.00      0.00         1\\n         994       1.00      0.00      0.00         1\\n        1000       1.00      0.00      0.00         1\\n        1003       1.00      0.00      0.00         1\\n        1005       1.00      0.00      0.00         5\\n        1008       1.00      0.00      0.00         1\\n        1010       1.00      0.00      0.00         1\\n        1011       1.00      0.00      0.00        13\\n        1013       1.00      0.00      0.00         1\\n        1020       1.00      0.00      0.00         2\\n        1021       1.00      0.00      0.00         1\\n        1022       1.00      0.00      0.00         1\\n        1024       1.00      0.00      0.00         2\\n        1026       1.00      0.00      0.00         1\\n        1029       1.00      0.00      0.00         3\\n        1037       1.00      0.00      0.00         1\\n        1038       1.00      0.00      0.00         1\\n        1039       1.00      0.00      0.00         6\\n        1040       1.00      0.00      0.00         1\\n        1045       1.00      0.00      0.00         1\\n        1048       1.00      0.00      0.00         1\\n        1050       1.00      0.00      0.00         1\\n        1054       1.00      0.00      0.00         1\\n        1057       1.00      0.00      0.00         1\\n        1065       1.00      0.00      0.00         1\\n        1071       1.00      0.00      0.00         1\\n        1077       1.00      0.00      0.00         1\\n        1078       1.00      0.00      0.00         2\\n        1083       1.00      0.00      0.00         1\\n        1087       1.00      0.00      0.00         1\\n        1088       1.00      0.00      0.00         1\\n        1089       1.00      0.00      0.00         2\\n        1096       1.00      0.00      0.00         1\\n        1107       1.00      0.00      0.00         1\\n        1111       1.00      0.00      0.00         1\\n        1114       1.00      0.00      0.00         1\\n        1115       1.00      0.00      0.00         1\\n        1119       1.00      0.00      0.00         1\\n        1122       1.00      0.00      0.00         1\\n        1123       1.00      0.00      0.00         1\\n        1127       0.10      0.02      0.03        96\\n        1130       1.00      0.00      0.00         1\\n        1135       1.00      0.00      0.00         3\\n        1138       1.00      0.00      0.00         1\\n        1140       1.00      0.00      0.00         1\\n        1141       1.00      0.00      0.00         1\\n        1142       1.00      0.00      0.00         1\\n        1145       1.00      0.00      0.00         1\\n        1146       1.00      0.00      0.00         1\\n        1147       1.00      0.00      0.00         1\\n        1149       1.00      0.00      0.00         1\\n        1150       1.00      0.00      0.00         1\\n        1156       1.00      0.00      0.00         3\\n        1161       1.00      0.00      0.00         1\\n        1162       1.00      0.00      0.00         2\\n        1165       1.00      0.00      0.00         1\\n        1167       1.00      0.00      0.00         1\\n\\n    accuracy                           0.19      1911\\n   macro avg       0.94      0.00      0.00      1911\\nweighted avg       0.56      0.19      0.07      1911\\n'"
      ]
     },
     "execution_count": 93,
     "metadata": {},
     "output_type": "execute_result"
    }
   ],
   "source": [
    "classification_report(y_test_dv, y_pred_dv,zero_division=1)"
   ]
  },
  {
   "cell_type": "code",
   "execution_count": 92,
   "id": "21c4d70e-e78c-4f09-ac6a-466f216888a2",
   "metadata": {},
   "outputs": [
    {
     "data": {
      "text/plain": [
       "'              precision    recall  f1-score   support\\n\\n           0       0.20      0.95      0.33       363\\n           1       1.00      0.00      0.00         3\\n           2       1.00      0.00      0.00         1\\n           3       1.00      0.00      0.00         4\\n           5       1.00      0.00      0.00         4\\n          10       1.00      0.00      0.00         4\\n          11       1.00      0.00      0.00         1\\n          13       1.00      0.00      0.00         2\\n          14       1.00      0.00      0.00         1\\n          19       1.00      0.00      0.00         1\\n          25       1.00      0.00      0.00         1\\n          26       1.00      0.00      0.00         6\\n          29       1.00      0.00      0.00         1\\n          31       1.00      0.00      0.00         1\\n          32       1.00      0.00      0.00         1\\n          35       1.00      0.00      0.00         6\\n          43       1.00      0.00      0.00        42\\n          44       1.00      0.00      0.00         2\\n          47       1.00      0.00      0.00         9\\n          48       1.00      0.00      0.00         1\\n          52       1.00      0.00      0.00         7\\n          53       1.00      0.00      0.00         3\\n          58       1.00      0.00      0.00         3\\n          59       0.00      0.00      0.00        40\\n          60       1.00      0.00      0.00         1\\n          61       1.00      0.00      0.00         3\\n          62       1.00      0.00      0.00         7\\n          63       1.00      0.00      0.00         2\\n          64       1.00      0.00      0.00         1\\n          67       1.00      0.00      0.00         4\\n          72       1.00      0.00      0.00        22\\n          76       1.00      0.00      0.00         1\\n          77       1.00      0.00      0.00         2\\n          81       1.00      0.00      0.00         1\\n          82       1.00      0.00      0.00         1\\n          88       1.00      0.00      0.00         1\\n          96       1.00      0.00      0.00         1\\n          97       1.00      0.00      0.00        19\\n          98       1.00      0.00      0.00         1\\n         100       1.00      0.00      0.00         3\\n         103       1.00      0.00      0.00         7\\n         104       1.00      0.00      0.00         1\\n         111       1.00      0.00      0.00         1\\n         117       0.00      0.00      0.00        29\\n         119       1.00      0.00      0.00         4\\n         128       1.00      0.00      0.00         1\\n         129       1.00      0.00      0.00         3\\n         131       1.00      0.00      0.00         2\\n         133       1.00      0.00      0.00         6\\n         135       1.00      0.00      0.00         1\\n         136       1.00      0.00      0.00         1\\n         139       1.00      0.00      0.00         1\\n         144       1.00      0.00      0.00         1\\n         148       1.00      0.00      0.00         1\\n         153       1.00      0.00      0.00         1\\n         155       1.00      0.00      0.00         1\\n         156       1.00      0.00      0.00        39\\n         157       1.00      0.00      0.00         1\\n         158       1.00      0.00      0.00         4\\n         161       1.00      0.00      0.00         7\\n         163       1.00      0.00      0.00         1\\n         166       1.00      0.00      0.00         4\\n         167       1.00      0.00      0.00         7\\n         172       1.00      0.00      0.00         1\\n         173       1.00      0.00      0.00        15\\n         176       1.00      0.00      0.00         1\\n         177       1.00      0.00      0.00         5\\n         178       1.00      0.00      0.00         1\\n         179       1.00      0.00      0.00         3\\n         183       1.00      0.00      0.00         1\\n         186       1.00      0.00      0.00         9\\n         192       1.00      0.00      0.00         5\\n         203       1.00      0.00      0.00         1\\n         210       1.00      0.00      0.00         1\\n         215       1.00      0.00      0.00         1\\n         216       1.00      0.00      0.00         1\\n         218       1.00      0.00      0.00         1\\n         226       1.00      0.00      0.00         1\\n         229       1.00      0.00      0.00         2\\n         234       1.00      0.00      0.00         4\\n         236       1.00      0.00      0.00         1\\n         240       1.00      0.00      0.00         1\\n         242       1.00      0.00      0.00         1\\n         243       1.00      0.00      0.00         1\\n         244       1.00      0.00      0.00         1\\n         248       1.00      0.00      0.00         3\\n         250       1.00      0.00      0.00         1\\n         259       1.00      0.00      0.00         1\\n         263       1.00      0.00      0.00         1\\n         278       1.00      0.00      0.00         1\\n         279       1.00      0.00      0.00         1\\n         282       1.00      0.00      0.00         2\\n         283       1.00      0.00      0.00         1\\n         284       1.00      0.00      0.00         1\\n         286       1.00      0.00      0.00        25\\n         287       1.00      0.00      0.00         1\\n         289       1.00      0.00      0.00         1\\n         292       1.00      0.00      0.00         2\\n         302       1.00      0.00      0.00         1\\n         303       1.00      0.00      0.00         2\\n         307       1.00      0.00      0.00         3\\n         309       1.00      0.00      0.00         1\\n         311       1.00      0.00      0.00         1\\n         313       1.00      0.00      0.00         1\\n         316       1.00      0.00      0.00         1\\n         321       1.00      0.00      0.00         1\\n         322       1.00      0.00      0.00         9\\n         329       0.00      0.00      0.00        43\\n         330       1.00      0.00      0.00         6\\n         331       1.00      0.00      0.00         2\\n         332       1.00      0.00      0.00         1\\n         333       1.00      0.00      0.00         7\\n         341       1.00      0.00      0.00         7\\n         343       1.00      0.00      0.00         1\\n         347       1.00      0.00      0.00         1\\n         352       1.00      0.00      0.00        31\\n         355       1.00      0.00      0.00         1\\n         357       1.00      0.00      0.00         1\\n         358       1.00      0.00      0.00         6\\n         360       1.00      0.00      0.00         2\\n         361       1.00      0.00      0.00         1\\n         362       1.00      0.00      0.00         1\\n         364       1.00      0.00      0.00         1\\n         365       0.04      0.02      0.03       103\\n         366       1.00      0.00      0.00         4\\n         369       1.00      0.00      0.00         1\\n         370       1.00      0.00      0.00         4\\n         372       1.00      0.00      0.00         1\\n         378       1.00      0.00      0.00        10\\n         380       1.00      0.00      0.00         1\\n         382       1.00      0.00      0.00         1\\n         384       1.00      0.00      0.00         1\\n         386       1.00      0.00      0.00         7\\n         387       1.00      0.00      0.00         2\\n         389       1.00      0.00      0.00         1\\n         390       1.00      0.00      0.00         5\\n         393       0.03      0.03      0.03        87\\n         394       1.00      0.00      0.00         1\\n         395       1.00      0.00      0.00         5\\n         396       1.00      0.00      0.00         3\\n         400       1.00      0.00      0.00         2\\n         402       1.00      0.00      0.00         1\\n         403       1.00      0.00      0.00         1\\n         415       1.00      0.00      0.00        10\\n         416       1.00      0.00      0.00         2\\n         420       1.00      0.00      0.00         1\\n         424       1.00      0.00      0.00         1\\n         425       1.00      0.00      0.00         1\\n         427       1.00      0.00      0.00         7\\n         429       1.00      0.00      0.00         1\\n         433       1.00      0.00      0.00         4\\n         434       1.00      0.00      0.00         1\\n         435       1.00      0.00      0.00         1\\n         438       1.00      0.00      0.00         1\\n         440       1.00      0.00      0.00         1\\n         441       1.00      0.00      0.00         1\\n         442       1.00      0.00      0.00         1\\n         454       1.00      0.00      0.00         1\\n         457       1.00      0.00      0.00         3\\n         459       1.00      0.00      0.00         1\\n         463       1.00      0.00      0.00         1\\n         467       1.00      0.00      0.00         1\\n         473       1.00      0.00      0.00         1\\n         476       1.00      0.00      0.00        24\\n         484       1.00      0.00      0.00         1\\n         487       1.00      0.00      0.00         1\\n         488       1.00      0.00      0.00         2\\n         489       1.00      0.00      0.00         4\\n         491       1.00      0.00      0.00         1\\n         493       1.00      0.00      0.00         1\\n         494       1.00      0.00      0.00         1\\n         495       0.00      0.00      0.00        24\\n         498       1.00      0.00      0.00         2\\n         500       1.00      0.00      0.00         2\\n         501       1.00      0.00      0.00         1\\n         502       1.00      0.00      0.00         2\\n         505       1.00      0.00      0.00         2\\n         506       1.00      0.00      0.00         1\\n         511       1.00      0.00      0.00         2\\n         513       1.00      0.00      0.00         1\\n         514       1.00      0.00      0.00         1\\n         515       1.00      0.00      0.00         2\\n         516       1.00      0.00      0.00         1\\n         518       1.00      0.00      0.00        14\\n         520       1.00      0.00      0.00         4\\n         523       1.00      0.00      0.00         1\\n         525       1.00      0.00      0.00         1\\n         527       1.00      0.00      0.00         1\\n         536       1.00      0.00      0.00         3\\n         539       1.00      0.00      0.00         1\\n         541       1.00      0.00      0.00         1\\n         544       1.00      0.00      0.00         1\\n         545       1.00      0.00      0.00         7\\n         546       1.00      0.00      0.00         1\\n         553       1.00      0.00      0.00         1\\n         554       1.00      0.00      0.00         2\\n         558       1.00      0.00      0.00         1\\n         560       1.00      0.00      0.00        17\\n         564       1.00      0.00      0.00         1\\n         566       1.00      0.00      0.00         2\\n         570       1.00      0.00      0.00         1\\n         571       1.00      0.00      0.00         1\\n         572       1.00      0.00      0.00         1\\n         575       1.00      0.00      0.00         1\\n         576       1.00      0.00      0.00         1\\n         577       1.00      0.00      0.00         1\\n         581       1.00      0.00      0.00         6\\n         584       1.00      0.00      0.00         2\\n         586       1.00      0.00      0.00         1\\n         588       1.00      0.00      0.00         1\\n         589       1.00      0.00      0.00         1\\n         596       1.00      0.00      0.00        15\\n         597       1.00      0.00      0.00         1\\n         604       1.00      0.00      0.00         2\\n         606       1.00      0.00      0.00         1\\n         608       1.00      0.00      0.00         1\\n         609       1.00      0.00      0.00         1\\n         610       1.00      0.00      0.00         1\\n         617       1.00      0.00      0.00         7\\n         622       1.00      0.00      0.00         1\\n         624       1.00      0.00      0.00         1\\n         630       1.00      0.00      0.00         1\\n         636       1.00      0.00      0.00         5\\n         640       1.00      0.00      0.00         2\\n         642       1.00      0.00      0.00         1\\n         645       1.00      0.00      0.00         1\\n         646       1.00      0.00      0.00         1\\n         648       1.00      0.00      0.00         2\\n         649       1.00      0.00      0.00         6\\n         655       1.00      0.00      0.00         1\\n         656       1.00      0.00      0.00         4\\n         661       1.00      0.00      0.00         1\\n         662       1.00      0.00      0.00         1\\n         663       1.00      0.00      0.00         1\\n         664       1.00      0.00      0.00        11\\n         666       1.00      0.00      0.00         1\\n         667       1.00      0.00      0.00         1\\n         669       1.00      0.00      0.00         1\\n         670       1.00      0.00      0.00         1\\n         671       1.00      0.00      0.00         1\\n         673       1.00      0.00      0.00         1\\n         679       1.00      0.00      0.00         1\\n         681       1.00      0.00      0.00         1\\n         683       1.00      0.00      0.00         1\\n         684       1.00      0.00      0.00         1\\n         686       1.00      0.00      0.00         1\\n         688       1.00      0.00      0.00         1\\n         694       1.00      0.00      0.00         1\\n         695       1.00      0.00      0.00         4\\n         697       1.00      0.00      0.00         1\\n         698       1.00      0.00      0.00         1\\n         699       1.00      0.00      0.00         2\\n         704       1.00      0.00      0.00         1\\n         705       1.00      0.00      0.00         3\\n         707       1.00      0.00      0.00         1\\n         714       1.00      0.00      0.00         1\\n         715       1.00      0.00      0.00        10\\n         719       1.00      0.00      0.00         4\\n         721       1.00      0.00      0.00         1\\n         722       1.00      0.00      0.00         2\\n         723       1.00      0.00      0.00         1\\n         724       1.00      0.00      0.00         1\\n         727       1.00      0.00      0.00         1\\n         728       1.00      0.00      0.00         7\\n         733       1.00      0.00      0.00         5\\n         741       1.00      0.00      0.00         1\\n         744       1.00      0.00      0.00         4\\n         748       1.00      0.00      0.00        18\\n         753       1.00      0.00      0.00         3\\n         755       1.00      0.00      0.00         1\\n         757       1.00      0.00      0.00         1\\n         759       1.00      0.00      0.00         1\\n         761       1.00      0.00      0.00         1\\n         771       1.00      0.00      0.00         2\\n         774       1.00      0.00      0.00         4\\n         780       1.00      0.00      0.00         1\\n         786       1.00      0.00      0.00         1\\n         789       1.00      0.00      0.00         1\\n         792       1.00      0.00      0.00         1\\n         793       1.00      0.00      0.00         4\\n         796       1.00      0.00      0.00         1\\n         798       1.00      0.00      0.00         1\\n         799       1.00      0.00      0.00         2\\n         800       1.00      0.00      0.00         1\\n         802       1.00      0.00      0.00         1\\n         803       1.00      0.00      0.00         7\\n         806       1.00      0.00      0.00         1\\n         810       1.00      0.00      0.00         1\\n         815       1.00      0.00      0.00         1\\n         816       1.00      0.00      0.00         1\\n         817       1.00      0.00      0.00         1\\n         819       1.00      0.00      0.00         2\\n         820       1.00      0.00      0.00         1\\n         821       1.00      0.00      0.00         3\\n         822       1.00      0.00      0.00         1\\n         823       1.00      0.00      0.00         1\\n         825       1.00      0.00      0.00         1\\n         830       1.00      0.00      0.00         1\\n         833       1.00      0.00      0.00         1\\n         836       1.00      0.00      0.00         1\\n         846       1.00      0.00      0.00         1\\n         847       1.00      0.00      0.00         1\\n         848       1.00      0.00      0.00         1\\n         849       1.00      0.00      0.00         7\\n         850       1.00      0.00      0.00         2\\n         852       1.00      0.00      0.00         6\\n         864       1.00      0.00      0.00         1\\n         866       1.00      0.00      0.00         4\\n         868       1.00      0.00      0.00         1\\n         872       1.00      0.00      0.00         1\\n         873       1.00      0.00      0.00         4\\n         877       1.00      0.00      0.00         1\\n         881       1.00      0.00      0.00        19\\n         886       1.00      0.00      0.00         1\\n         887       1.00      0.00      0.00        31\\n         895       1.00      0.00      0.00         3\\n         897       1.00      0.00      0.00         1\\n         898       1.00      0.00      0.00         2\\n         901       1.00      0.00      0.00         1\\n         905       1.00      0.00      0.00         1\\n         908       1.00      0.00      0.00         1\\n         909       1.00      0.00      0.00         1\\n         914       1.00      0.00      0.00        10\\n         916       1.00      0.00      0.00         1\\n         920       1.00      0.00      0.00         1\\n         921       1.00      0.00      0.00         1\\n         923       1.00      0.00      0.00         1\\n         926       1.00      0.00      0.00         1\\n         927       1.00      0.00      0.00         1\\n         932       1.00      0.00      0.00         2\\n         937       1.00      0.00      0.00         1\\n         938       1.00      0.00      0.00         1\\n         942       1.00      0.00      0.00         5\\n         948       1.00      0.00      0.00         1\\n         953       1.00      0.00      0.00         1\\n         959       1.00      0.00      0.00         5\\n         961       1.00      0.00      0.00         1\\n         962       1.00      0.00      0.00         1\\n         963       1.00      0.00      0.00         1\\n         966       1.00      0.00      0.00         1\\n         968       1.00      0.00      0.00         1\\n         969       1.00      0.00      0.00         1\\n         972       1.00      0.00      0.00         5\\n         980       1.00      0.00      0.00         1\\n         981       1.00      0.00      0.00         1\\n         984       1.00      0.00      0.00        20\\n         987       1.00      0.00      0.00         1\\n         988       1.00      0.00      0.00         1\\n         989       1.00      0.00      0.00         1\\n         993       1.00      0.00      0.00         1\\n         994       1.00      0.00      0.00         1\\n        1000       1.00      0.00      0.00         1\\n        1003       1.00      0.00      0.00         1\\n        1005       1.00      0.00      0.00         5\\n        1008       1.00      0.00      0.00         1\\n        1010       1.00      0.00      0.00         1\\n        1011       1.00      0.00      0.00        13\\n        1013       1.00      0.00      0.00         1\\n        1020       1.00      0.00      0.00         2\\n        1021       1.00      0.00      0.00         1\\n        1022       1.00      0.00      0.00         1\\n        1024       1.00      0.00      0.00         2\\n        1026       1.00      0.00      0.00         1\\n        1029       1.00      0.00      0.00         3\\n        1037       1.00      0.00      0.00         1\\n        1038       1.00      0.00      0.00         1\\n        1039       1.00      0.00      0.00         6\\n        1040       1.00      0.00      0.00         1\\n        1045       1.00      0.00      0.00         1\\n        1048       1.00      0.00      0.00         1\\n        1050       1.00      0.00      0.00         1\\n        1054       1.00      0.00      0.00         1\\n        1057       1.00      0.00      0.00         1\\n        1065       1.00      0.00      0.00         1\\n        1071       1.00      0.00      0.00         1\\n        1077       1.00      0.00      0.00         1\\n        1078       1.00      0.00      0.00         2\\n        1083       1.00      0.00      0.00         1\\n        1087       1.00      0.00      0.00         1\\n        1088       1.00      0.00      0.00         1\\n        1089       1.00      0.00      0.00         2\\n        1096       1.00      0.00      0.00         1\\n        1107       1.00      0.00      0.00         1\\n        1111       1.00      0.00      0.00         1\\n        1114       1.00      0.00      0.00         1\\n        1115       1.00      0.00      0.00         1\\n        1119       1.00      0.00      0.00         1\\n        1122       1.00      0.00      0.00         1\\n        1123       1.00      0.00      0.00         1\\n        1127       0.00      0.00      0.00        96\\n        1130       1.00      0.00      0.00         1\\n        1135       1.00      0.00      0.00         3\\n        1138       1.00      0.00      0.00         1\\n        1140       1.00      0.00      0.00         1\\n        1141       1.00      0.00      0.00         1\\n        1142       1.00      0.00      0.00         1\\n        1145       1.00      0.00      0.00         1\\n        1146       1.00      0.00      0.00         1\\n        1147       1.00      0.00      0.00         1\\n        1149       1.00      0.00      0.00         1\\n        1150       1.00      0.00      0.00         1\\n        1156       1.00      0.00      0.00         3\\n        1161       1.00      0.00      0.00         1\\n        1162       1.00      0.00      0.00         2\\n        1165       1.00      0.00      0.00         1\\n        1167       1.00      0.00      0.00         1\\n\\n    accuracy                           0.18      1911\\n   macro avg       0.98      0.00      0.00      1911\\nweighted avg       0.63      0.18      0.07      1911\\n'"
      ]
     },
     "execution_count": 92,
     "metadata": {},
     "output_type": "execute_result"
    }
   ],
   "source": [
    "classification_report(y_test_con, y_pred_con,zero_division=1)"
   ]
  },
  {
   "cell_type": "code",
   "execution_count": null,
   "id": "18deb100-b4d0-4888-9e1c-6e7116bea372",
   "metadata": {},
   "outputs": [],
   "source": []
  }
 ],
 "metadata": {
  "kernelspec": {
   "display_name": "Python 3 (ipykernel)",
   "language": "python",
   "name": "python3"
  },
  "language_info": {
   "codemirror_mode": {
    "name": "ipython",
    "version": 3
   },
   "file_extension": ".py",
   "mimetype": "text/x-python",
   "name": "python",
   "nbconvert_exporter": "python",
   "pygments_lexer": "ipython3",
   "version": "3.10.5"
  }
 },
 "nbformat": 4,
 "nbformat_minor": 5
}
